{
 "cells": [
  {
   "cell_type": "markdown",
   "metadata": {},
   "source": [
    "# Basel Precipitaion Forecast\n",
    "In this project we train a prediction model for precipitation by using some data about weather."
   ]
  },
  {
   "cell_type": "markdown",
   "metadata": {},
   "source": [
    "## Abstract\n",
    "- Suppose we have some data about a day and want to predict whether it will rain or not.\n",
    "- First find patterns for T, H, W, P, C and also for Precipitation.\n",
    "- Then train a model with different techniques to predict rainfall.\n",
    "- Loading the essential libraries and then loading and reading the dataset.\n",
    "- Visualizing the dataset using charts, graphs, etc., to understand the data better.\n",
    "- Pre-processing the data using various data cleaning and manipulation techniques.\n",
    "- Applying multiple machine learning algorithms to train the models and evaluate their performance using different metrics."
   ]
  },
  {
   "cell_type": "markdown",
   "metadata": {},
   "source": [
    "## Introduction\n",
    "- Tell something about Basel city and importance of precipitation forecasting.\n",
    "- Tell something about importance of up-to-date data of climate and new patterns.\n",
    "- Tell something about advantages of forecasting and why it is important today."
   ]
  },
  {
   "cell_type": "code",
   "execution_count": 24,
   "metadata": {},
   "outputs": [
    {
     "ename": "ImportError",
     "evalue": "cannot import name 'get_daily_date' from 'getdata' (/Users/fraxea/Desktop/up/weather/getdata.py)",
     "output_type": "error",
     "traceback": [
      "\u001b[0;31m---------------------------------------------------------------------------\u001b[0m",
      "\u001b[0;31mImportError\u001b[0m                               Traceback (most recent call last)",
      "Cell \u001b[0;32mIn[24], line 7\u001b[0m\n\u001b[1;32m      3\u001b[0m \u001b[39m# import matplotlib.pyplot as plt\u001b[39;00m\n\u001b[1;32m      4\u001b[0m \u001b[39m# import sklearn\u001b[39;00m\n\u001b[1;32m      6\u001b[0m \u001b[39mfrom\u001b[39;00m \u001b[39mgetdata\u001b[39;00m \u001b[39mimport\u001b[39;00m get_data, get_daily_temperature\n\u001b[0;32m----> 7\u001b[0m \u001b[39mfrom\u001b[39;00m \u001b[39mgetdata\u001b[39;00m \u001b[39mimport\u001b[39;00m get_daily_date\n",
      "\u001b[0;31mImportError\u001b[0m: cannot import name 'get_daily_date' from 'getdata' (/Users/fraxea/Desktop/up/weather/getdata.py)"
     ]
    }
   ],
   "source": [
    "import numpy as np\n",
    "import pandas as pd\n",
    "# import matplotlib.pyplot as plt\n",
    "# import sklearn\n",
    "\n",
    "from getdata import get_data, get_daily_temperature\n",
    "from getdata import get_daily_date"
   ]
  },
  {
   "cell_type": "markdown",
   "metadata": {},
   "source": [
    "## Dataset\n",
    "**You can find and download the dataset in [this](https://www.meteoblue.com/en/weather/archive/export) link.**"
   ]
  },
  {
   "cell_type": "markdown",
   "metadata": {},
   "source": [
    "##### About dataset\n",
    "This dataset contains some attributes about weather for Basel, a city in northwest Switzerland, from January, 2014 till November, 2023 with hourly resolution.\n",
    "##### Cleaning dataset\n",
    "The first nine rows are some basic information about location of city and units of measurements which we do not need it. Also there are some rows at the end of dataset which are empty(missing data) and we have to filter them as well. In this project we do not consider wind direction, so we do not cosider this column."
   ]
  },
  {
   "cell_type": "code",
   "execution_count": null,
   "metadata": {},
   "outputs": [
    {
     "name": "stdout",
     "output_type": "stream",
     "text": [
      "Number of missing rows: 191\n",
      "Number of examples:     86473\n",
      "Number of features:     6\n"
     ]
    },
    {
     "data": {
      "text/html": [
       "<style type=\"text/css\">\n",
       "</style>\n",
       "<table id=\"T_af0de\">\n",
       "  <thead>\n",
       "    <tr>\n",
       "      <th class=\"blank level0\" >&nbsp;</th>\n",
       "      <th id=\"T_af0de_level0_col0\" class=\"col_heading level0 col0\" >Basel Temperature [2 m elevation corrected]</th>\n",
       "      <th id=\"T_af0de_level0_col1\" class=\"col_heading level0 col1\" >Basel Precipitation Total</th>\n",
       "      <th id=\"T_af0de_level0_col2\" class=\"col_heading level0 col2\" >Basel Relative Humidity [2 m]</th>\n",
       "      <th id=\"T_af0de_level0_col3\" class=\"col_heading level0 col3\" >Basel Wind Speed [100 m]</th>\n",
       "      <th id=\"T_af0de_level0_col4\" class=\"col_heading level0 col4\" >Basel Cloud Cover Total</th>\n",
       "      <th id=\"T_af0de_level0_col5\" class=\"col_heading level0 col5\" >Basel Mean Sea Level Pressure [MSL]</th>\n",
       "    </tr>\n",
       "  </thead>\n",
       "  <tbody>\n",
       "    <tr>\n",
       "      <th id=\"T_af0de_level0_row0\" class=\"row_heading level0 row0\" >20140101T0000</th>\n",
       "      <td id=\"T_af0de_row0_col0\" class=\"data row0 col0\" >0.310245</td>\n",
       "      <td id=\"T_af0de_row0_col1\" class=\"data row0 col1\" >0.000000</td>\n",
       "      <td id=\"T_af0de_row0_col2\" class=\"data row0 col2\" >88.457619</td>\n",
       "      <td id=\"T_af0de_row0_col3\" class=\"data row0 col3\" >16.750641</td>\n",
       "      <td id=\"T_af0de_row0_col4\" class=\"data row0 col4\" >52.000000</td>\n",
       "      <td id=\"T_af0de_row0_col5\" class=\"data row0 col5\" >1016.200012</td>\n",
       "    </tr>\n",
       "    <tr>\n",
       "      <th id=\"T_af0de_level0_row1\" class=\"row_heading level0 row1\" >20140101T0100</th>\n",
       "      <td id=\"T_af0de_row1_col0\" class=\"data row1 col0\" >1.110245</td>\n",
       "      <td id=\"T_af0de_row1_col1\" class=\"data row1 col1\" >0.000000</td>\n",
       "      <td id=\"T_af0de_row1_col2\" class=\"data row1 col2\" >84.218651</td>\n",
       "      <td id=\"T_af0de_row1_col3\" class=\"data row1 col3\" >17.418196</td>\n",
       "      <td id=\"T_af0de_row1_col4\" class=\"data row1 col4\" >94.000000</td>\n",
       "      <td id=\"T_af0de_row1_col5\" class=\"data row1 col5\" >1016.299988</td>\n",
       "    </tr>\n",
       "    <tr>\n",
       "      <th id=\"T_af0de_level0_row2\" class=\"row_heading level0 row2\" >20140101T0200</th>\n",
       "      <td id=\"T_af0de_row2_col0\" class=\"data row2 col0\" >2.220245</td>\n",
       "      <td id=\"T_af0de_row2_col1\" class=\"data row2 col1\" >0.200000</td>\n",
       "      <td id=\"T_af0de_row2_col2\" class=\"data row2 col2\" >82.354805</td>\n",
       "      <td id=\"T_af0de_row2_col3\" class=\"data row2 col3\" >18.250259</td>\n",
       "      <td id=\"T_af0de_row2_col4\" class=\"data row2 col4\" >94.000000</td>\n",
       "      <td id=\"T_af0de_row2_col5\" class=\"data row2 col5\" >1016.599976</td>\n",
       "    </tr>\n",
       "    <tr>\n",
       "      <th id=\"T_af0de_level0_row3\" class=\"row_heading level0 row3\" >20231112T2200</th>\n",
       "      <td id=\"T_af0de_row3_col0\" class=\"data row3 col0\" >11.230246</td>\n",
       "      <td id=\"T_af0de_row3_col1\" class=\"data row3 col1\" >0.600000</td>\n",
       "      <td id=\"T_af0de_row3_col2\" class=\"data row3 col2\" >89.942604</td>\n",
       "      <td id=\"T_af0de_row3_col3\" class=\"data row3 col3\" >27.295977</td>\n",
       "      <td id=\"T_af0de_row3_col4\" class=\"data row3 col4\" >98.000000</td>\n",
       "      <td id=\"T_af0de_row3_col5\" class=\"data row3 col5\" >1012.900024</td>\n",
       "    </tr>\n",
       "    <tr>\n",
       "      <th id=\"T_af0de_level0_row4\" class=\"row_heading level0 row4\" >20231112T2300</th>\n",
       "      <td id=\"T_af0de_row4_col0\" class=\"data row4 col0\" >11.040245</td>\n",
       "      <td id=\"T_af0de_row4_col1\" class=\"data row4 col1\" >0.600000</td>\n",
       "      <td id=\"T_af0de_row4_col2\" class=\"data row4 col2\" >92.824905</td>\n",
       "      <td id=\"T_af0de_row4_col3\" class=\"data row4 col3\" >23.770906</td>\n",
       "      <td id=\"T_af0de_row4_col4\" class=\"data row4 col4\" >99.000000</td>\n",
       "      <td id=\"T_af0de_row4_col5\" class=\"data row4 col5\" >1012.900024</td>\n",
       "    </tr>\n",
       "    <tr>\n",
       "      <th id=\"T_af0de_level0_row5\" class=\"row_heading level0 row5\" >20231113T0000</th>\n",
       "      <td id=\"T_af0de_row5_col0\" class=\"data row5 col0\" >11.380245</td>\n",
       "      <td id=\"T_af0de_row5_col1\" class=\"data row5 col1\" >0.700000</td>\n",
       "      <td id=\"T_af0de_row5_col2\" class=\"data row5 col2\" >91.976036</td>\n",
       "      <td id=\"T_af0de_row5_col3\" class=\"data row5 col3\" >27.511158</td>\n",
       "      <td id=\"T_af0de_row5_col4\" class=\"data row5 col4\" >100.000000</td>\n",
       "      <td id=\"T_af0de_row5_col5\" class=\"data row5 col5\" >1013.299988</td>\n",
       "    </tr>\n",
       "  </tbody>\n",
       "</table>\n"
      ],
      "text/plain": [
       "<pandas.io.formats.style.Styler at 0x149ca6b10>"
      ]
     },
     "execution_count": 2,
     "metadata": {},
     "output_type": "execute_result"
    }
   ],
   "source": [
    "missing_data, cleaned_data = get_data()\n",
    "cleaned_data.drop(cleaned_data.columns[4], inplace=True, axis=1)\n",
    "print(f\"Number of missing rows: {missing_data}\")\n",
    "print(f\"Number of examples:     {cleaned_data.shape[0]}\")\n",
    "print(f\"Number of features:     {cleaned_data.shape[1]}\")\n",
    "pd.concat([cleaned_data.head(3), cleaned_data.tail(3)]).style"
   ]
  },
  {
   "cell_type": "markdown",
   "metadata": {},
   "source": [
    "## Features\n",
    "Each row represents an example and each column represents a feature. Here is the list of features:\n",
    "- Temperature\n",
    "- Precipitation\n",
    "- Relative Humidity\n",
    "- Wind speed\n",
    "- Cloud cover\n",
    "- Pressure"
   ]
  },
  {
   "cell_type": "markdown",
   "metadata": {},
   "source": [
    "### Make examples daily\n",
    "Forecasting for a whole day is more general than one hour, so we decide to merge each 24 examples to convert the resolution to daily. A good questio is how? One way is to get a mean for each feature. Specificly for temperature, having maximum, minimum, and average is good."
   ]
  },
  {
   "cell_type": "code",
   "execution_count": 10,
   "metadata": {},
   "outputs": [
    {
     "ename": "NameError",
     "evalue": "name 'get_date_daily' is not defined",
     "output_type": "error",
     "traceback": [
      "\u001b[0;31m---------------------------------------------------------------------------\u001b[0m",
      "\u001b[0;31mNameError\u001b[0m                                 Traceback (most recent call last)",
      "Cell \u001b[0;32mIn[10], line 1\u001b[0m\n\u001b[0;32m----> 1\u001b[0m dates \u001b[39m=\u001b[39m get_date_daily(cleaned_data)\n\u001b[1;32m      2\u001b[0m \u001b[39mprint\u001b[39m(\u001b[39mf\u001b[39m\u001b[39m\"\u001b[39m\u001b[39mNumber of days:         \u001b[39m\u001b[39m{\u001b[39;00mdates\u001b[39m.\u001b[39mshape[\u001b[39m0\u001b[39m]\u001b[39m}\u001b[39;00m\u001b[39m\"\u001b[39m)\n",
      "\u001b[0;31mNameError\u001b[0m: name 'get_date_daily' is not defined"
     ]
    }
   ],
   "source": [
    "dates = get_date_daily(cleaned_data)\n",
    "print(f\"Number of days:         {dates.shape[0]}\")"
   ]
  },
  {
   "cell_type": "markdown",
   "metadata": {},
   "source": [
    "## Temperature\n",
    "Basel is a relatively cold city:"
   ]
  },
  {
   "cell_type": "code",
   "execution_count": 8,
   "metadata": {},
   "outputs": [
    {
     "name": "stdout",
     "output_type": "stream",
     "text": [
      "Minimum temperature is: -13.0 °C\n",
      "Maximum temperature is: 38.6 °C\n",
      "Mean temperature is:    12.1 °C\n",
      "Number of days:         3604\n"
     ]
    }
   ],
   "source": [
    "MIN_T, MAX_T, MEAN_T, mean_temperature, min_temperature, max_temperature, var_temperature = get_daily_temperature(cleaned_data)\n",
    "print(f\"Minimum temperature is: {MIN_T:.1f} °C\")\n",
    "print(f\"Maximum temperature is: {MAX_T:.1f} °C\")\n",
    "print(f\"Mean temperature is:    {MEAN_T:.1f} °C\")"
   ]
  },
  {
   "cell_type": "code",
   "execution_count": null,
   "metadata": {},
   "outputs": [],
   "source": [
    "# CODE"
   ]
  },
  {
   "cell_type": "markdown",
   "metadata": {},
   "source": [
    "A pattern that can be thaught is, when the difference between maximum and minimum is lower, the precipitation is higher. In other words, when the variance of temperature is relatively low, the precipitation is high. One advantage of using variance instead of maximum and minimum is you store one feature instead of two. So we model once with variance and other time with max/min."
   ]
  },
  {
   "cell_type": "markdown",
   "metadata": {},
   "source": [
    "## Models\n",
    "Let's have a look at each one in deep"
   ]
  },
  {
   "cell_type": "markdown",
   "metadata": {},
   "source": [
    "### Linear Model\n",
    "This is like ...\n",
    "If we apply it, results:\n",
    "###### SOME FIGUERS AND PLOTS TO SHOW THE RESULTS\n",
    "Calculate performance, error, advantages and disadvantages"
   ]
  },
  {
   "cell_type": "markdown",
   "metadata": {},
   "source": [
    "### Other Models\n",
    "This is like ...\n",
    "If we apply it, results:\n",
    "###### SOME FIGUERS AND PLOTS TO SHOW THE RESULTS\n",
    "Calculate performance, error, advantages and disadvantages"
   ]
  },
  {
   "cell_type": "markdown",
   "metadata": {},
   "source": [
    "## Conclusion\n",
    "- Forecasting is good.\n",
    "- Undestand that these features have a stronger affect in result.\n",
    "- This Model is better in performance.\n",
    "- Add references if necessary."
   ]
  }
 ],
 "metadata": {
  "kernelspec": {
   "display_name": "Python 3.11.4 64-bit",
   "language": "python",
   "name": "python3"
  },
  "language_info": {
   "codemirror_mode": {
    "name": "ipython",
    "version": 3
   },
   "file_extension": ".py",
   "mimetype": "text/x-python",
   "name": "python",
   "nbconvert_exporter": "python",
   "pygments_lexer": "ipython3",
   "version": "3.11.4"
  },
  "orig_nbformat": 4,
  "vscode": {
   "interpreter": {
    "hash": "aee8b7b246df8f9039afb4144a1f6fd8d2ca17a180786b69acc140d282b71a49"
   }
  }
 },
 "nbformat": 4,
 "nbformat_minor": 2
}
