{
 "cells": [
  {
   "cell_type": "markdown",
   "metadata": {},
   "source": [
    "# Basel Precipitaion Forecast\n",
    "In this project we train a prediction model for precipitation by using some data about weather."
   ]
  },
  {
   "cell_type": "markdown",
   "metadata": {},
   "source": [
    "## Abstract\n",
    "- Suppose we have some data about a day and want to predict whether it will rain or not.\n",
    "- First find patterns for T, H, W, P, C and also for Precipitation.\n",
    "- Then train a model with different techniques to predict rainfall.\n",
    "- Loading the essential libraries and then loading and reading the dataset.\n",
    "- Visualizing the dataset using charts, graphs, etc., to understand the data better.\n",
    "- Pre-processing the data using various data cleaning and manipulation techniques.\n",
    "- Applying multiple machine learning algorithms to train the models and evaluate their performance using different metrics."
   ]
  },
  {
   "cell_type": "markdown",
   "metadata": {},
   "source": [
    "## Introduction\n",
    "- Tell something about Basel city and importance of precipitation forecasting.\n",
    "- Tell something about importance of up-to-date data of climate and new patterns.\n",
    "- Tell something about advantages of forecasting and why it is important today."
   ]
  },
  {
   "cell_type": "code",
   "execution_count": 1,
   "metadata": {},
   "outputs": [],
   "source": [
    "import numpy as np\n",
    "import matplotlib.pyplot as plt\n",
    "import sklearn"
   ]
  },
  {
   "cell_type": "markdown",
   "metadata": {},
   "source": [
    "## Dataset\n",
    "##### [This is the link](https://www.meteoblue.com/en/weather/archive/export)\n",
    "##### Talk about dataset\n",
    "- how many rows and columns it consists of\n",
    "- total number of records\n",
    "- relation between the rows and columns of data\n",
    "- various categories of data\n",
    "##### Mention the attributes\n",
    "- Temperature\n",
    "- Pressure\n",
    "- Cloud coverage\n",
    "- Wind speed\n",
    "- Humiidity\n",
    "- Date\n",
    "- Percipition"
   ]
  },
  {
   "cell_type": "markdown",
   "metadata": {},
   "source": [
    "## Pre-Processing\n",
    "What things should I do for cleaning data and make it ready for applying algorithms?\n",
    "- Removing unnecessary features\n",
    "- Normalizing"
   ]
  },
  {
   "cell_type": "markdown",
   "metadata": {},
   "source": [
    "## Models\n",
    "Let's have a look at each one in deep"
   ]
  },
  {
   "cell_type": "markdown",
   "metadata": {},
   "source": [
    "### Linear Model\n",
    "This is like ...\n",
    "If we apply it, results:\n",
    "###### SOME FIGUERS AND PLOTS TO SHOW THE RESULTS\n",
    "Calculate performance, error, advantages and disadvantages"
   ]
  },
  {
   "cell_type": "markdown",
   "metadata": {},
   "source": [
    "### Other Models\n",
    "This is like ...\n",
    "If we apply it, results:\n",
    "###### SOME FIGUERS AND PLOTS TO SHOW THE RESULTS\n",
    "Calculate performance, error, advantages and disadvantages"
   ]
  },
  {
   "cell_type": "markdown",
   "metadata": {},
   "source": [
    "## Conclusion\n",
    "- Forecasting is good.\n",
    "- Undestand that these features have a stronger affect in result.\n",
    "- This Model is better in performance.\n",
    "- Add references if necessary."
   ]
  }
 ],
 "metadata": {
  "kernelspec": {
   "display_name": "Python 3.11.4 64-bit",
   "language": "python",
   "name": "python3"
  },
  "language_info": {
   "codemirror_mode": {
    "name": "ipython",
    "version": 3
   },
   "file_extension": ".py",
   "mimetype": "text/x-python",
   "name": "python",
   "nbconvert_exporter": "python",
   "pygments_lexer": "ipython3",
   "version": "3.11.4"
  },
  "orig_nbformat": 4,
  "vscode": {
   "interpreter": {
    "hash": "aee8b7b246df8f9039afb4144a1f6fd8d2ca17a180786b69acc140d282b71a49"
   }
  }
 },
 "nbformat": 4,
 "nbformat_minor": 2
}
