{
 "cells": [
  {
   "cell_type": "markdown",
   "metadata": {},
   "source": [
    "# Precipitaion Forecasting\n",
    "In this project, we have trained different types of machine learning models on some data about weather to predict precipitation."
   ]
  },
  {
   "cell_type": "markdown",
   "metadata": {},
   "source": [
    "## Introduction\n",
    "_Weather forecasting_ is using data about the current state and predict how the atmosphere will change. Weather warnings are used to protect lives and property, weather forecasting improves transportation safety, and precipitation forecasting is important to agriculture. There are many different ways of weather prediction. We have used machine learning models and compared the predicted results with actual values.\n",
    "#### Study area\n",
    "Basel is a city in northwest Switzerland. On average $51\\%$ days of the year have precipitation more than $0.1mm$. The total precipitation is around $850 mm$ annually.\n",
    "#### Methodology\n",
    "At first, data is collected. Then, some preprocessing techniques are used to prepare data for machine learning models. Finally, different machine learning techniquies are applied and the accuracy for each is reported.\\\n",
    "The following libraries are used: `numpy`, `pandas`, `matplotlib`, `scikit-learn`, `keras`"
   ]
  },
  {
   "cell_type": "code",
   "execution_count": 1,
   "metadata": {},
   "outputs": [],
   "source": [
    "import pandas as pd\n",
    "from sklearn.preprocessing import StandardScaler\n",
    "from sklearn.linear_model import Ridge\n",
    "from sklearn.model_selection import GridSearchCV, train_test_split\n",
    "from sklearn.ensemble import RandomForestRegressor, GradientBoostingRegressor\n",
    "from sklearn.metrics import r2_score\n",
    "from sklearn.pipeline import  make_pipeline\n",
    "from keras.layers import Dense\n",
    "from keras.models import Sequential\n",
    "from keras.optimizers.legacy import Adam\n",
    "from keras.losses import MeanSquaredError\n",
    "from scikeras.wrappers import KerasRegressor\n",
    "\n",
    "from utils import *\n",
    "%matplotlib widget"
   ]
  },
  {
   "cell_type": "markdown",
   "metadata": {},
   "source": [
    "## Dataset\n",
    "**You can find and download the dataset in [this](https://www.meteoblue.com/en/weather/archive/export) link.**\n",
    "#### About dataset\n",
    "This dataset contains some attributes about weather for Basel, from *January, 2014* to *November, 2023* with hourly resolution. The first nine rows are some basic information about location of city and units of measurements which we do not need it."
   ]
  },
  {
   "cell_type": "code",
   "execution_count": 2,
   "metadata": {},
   "outputs": [
    {
     "name": "stdout",
     "output_type": "stream",
     "text": [
      "(86664, 7)\n"
     ]
    }
   ],
   "source": [
    "data = load_data()\n",
    "print(data.shape)"
   ]
  },
  {
   "cell_type": "markdown",
   "metadata": {},
   "source": [
    "At the initial stage, there are $86664$ _samples_ and $7$ parameters.\n",
    "#### Cleaning dataset\n",
    "There are some rows at the end of dataset which are empty, _missing data_. We simply drop them. A day after the missing data is not complete. For simplicity we remove this day as well."
   ]
  },
  {
   "cell_type": "code",
   "execution_count": 3,
   "metadata": {},
   "outputs": [
    {
     "name": "stdout",
     "output_type": "stream",
     "text": [
      "191\n"
     ]
    }
   ],
   "source": [
    "missing_data = drop_missing_data(data)\n",
    "print(missing_data)"
   ]
  },
  {
   "cell_type": "markdown",
   "metadata": {},
   "source": [
    "As we can see, number of missing rows is $191$.\n",
    "#### Parameters\n",
    "In our data, each row represents a sample and each column represents a feature. Here is the list of columns measured hourly. This list is raw and we will do some operations to get ready for models.\n",
    "> Level column gives the height of the measurment from the sea level.\n",
    "\n",
    "| Symbol        | Parameter                 | Level                     | Unit          |\n",
    "|:-------------:|:-------------------------:|:-------------------------:|:-------------:|\n",
    "| $\\text{T}$    | Temperature               | $2 m$ elevation corrected | $°C$          |\n",
    "| $\\text{PT}$   | Precipitation Total       | sfc                       | $mm$          |\n",
    "| $\\text{RH}$   | Relative Humidity         | $2 m$                     | $\\%$          |\n",
    "| $\\text{WS}$   | Wind Speed                | $100 m$                   | $km/h$        |\n",
    "| $\\text{WD}$   | Wind Direction            | $100 m$                   | $°$           |\n",
    "| $\\text{CCT}$  | Cloud Cover Total         | sfc                       | $\\%$          |\n",
    "| $\\text{MSL}$  | Mean Sea Level Pressure   | MSL                       | $\\text{hPa}$  |"
   ]
  },
  {
   "cell_type": "markdown",
   "metadata": {},
   "source": [
    "## Preprocessing\n",
    "#### Make samples daily\n",
    "Forecasting for a whole day is more general than one hour, so we decided to merge each $24$ sample to convert the resolution to daily.\n",
    "- We extract **maximum**, **minimum**, and **mean** from each day of all parameters.\n",
    "- Except **Precipitation** which should be the **sum**."
   ]
  },
  {
   "cell_type": "code",
   "execution_count": 4,
   "metadata": {},
   "outputs": [
    {
     "data": {
      "text/html": [
       "<div>\n",
       "<style scoped>\n",
       "    .dataframe tbody tr th:only-of-type {\n",
       "        vertical-align: middle;\n",
       "    }\n",
       "\n",
       "    .dataframe tbody tr th {\n",
       "        vertical-align: top;\n",
       "    }\n",
       "\n",
       "    .dataframe thead th {\n",
       "        text-align: right;\n",
       "    }\n",
       "</style>\n",
       "<table border=\"1\" class=\"dataframe\">\n",
       "  <thead>\n",
       "    <tr style=\"text-align: right;\">\n",
       "      <th></th>\n",
       "      <th></th>\n",
       "      <th></th>\n",
       "      <th>PT</th>\n",
       "      <th>TMEAN</th>\n",
       "      <th>RHMEAN</th>\n",
       "      <th>WSMEAN</th>\n",
       "      <th>WDMEAN</th>\n",
       "      <th>CCTMEAN</th>\n",
       "      <th>MSLMEAN</th>\n",
       "      <th>TMAX</th>\n",
       "      <th>RHMAX</th>\n",
       "      <th>WSMAX</th>\n",
       "      <th>WDMAX</th>\n",
       "      <th>CCTMAX</th>\n",
       "      <th>MSLMAX</th>\n",
       "      <th>TMIN</th>\n",
       "      <th>RHMIN</th>\n",
       "      <th>WSMIN</th>\n",
       "      <th>WDMIN</th>\n",
       "      <th>CCTMIN</th>\n",
       "      <th>MSLMIN</th>\n",
       "    </tr>\n",
       "    <tr>\n",
       "      <th>Year</th>\n",
       "      <th>Month</th>\n",
       "      <th>Day</th>\n",
       "      <th></th>\n",
       "      <th></th>\n",
       "      <th></th>\n",
       "      <th></th>\n",
       "      <th></th>\n",
       "      <th></th>\n",
       "      <th></th>\n",
       "      <th></th>\n",
       "      <th></th>\n",
       "      <th></th>\n",
       "      <th></th>\n",
       "      <th></th>\n",
       "      <th></th>\n",
       "      <th></th>\n",
       "      <th></th>\n",
       "      <th></th>\n",
       "      <th></th>\n",
       "      <th></th>\n",
       "      <th></th>\n",
       "    </tr>\n",
       "  </thead>\n",
       "  <tbody>\n",
       "    <tr>\n",
       "      <th rowspan=\"5\" valign=\"top\">2014</th>\n",
       "      <th rowspan=\"5\" valign=\"top\">1</th>\n",
       "      <th>1</th>\n",
       "      <td>1.4</td>\n",
       "      <td>4.494412</td>\n",
       "      <td>90.203694</td>\n",
       "      <td>16.615975</td>\n",
       "      <td>166.495278</td>\n",
       "      <td>59.916667</td>\n",
       "      <td>1014.029167</td>\n",
       "      <td>8.720245</td>\n",
       "      <td>96.163430</td>\n",
       "      <td>18.455048</td>\n",
       "      <td>202.01129</td>\n",
       "      <td>99.0</td>\n",
       "      <td>1017.0</td>\n",
       "      <td>0.310245</td>\n",
       "      <td>77.926410</td>\n",
       "      <td>13.584932</td>\n",
       "      <td>144.46231</td>\n",
       "      <td>30.000002</td>\n",
       "      <td>1009.0</td>\n",
       "    </tr>\n",
       "    <tr>\n",
       "      <th>2</th>\n",
       "      <td>6.8</td>\n",
       "      <td>5.978995</td>\n",
       "      <td>92.044333</td>\n",
       "      <td>20.621631</td>\n",
       "      <td>184.099628</td>\n",
       "      <td>63.875000</td>\n",
       "      <td>1008.670833</td>\n",
       "      <td>9.240245</td>\n",
       "      <td>97.294250</td>\n",
       "      <td>29.215502</td>\n",
       "      <td>223.78113</td>\n",
       "      <td>100.0</td>\n",
       "      <td>1012.1</td>\n",
       "      <td>3.530245</td>\n",
       "      <td>83.382390</td>\n",
       "      <td>14.759999</td>\n",
       "      <td>152.35402</td>\n",
       "      <td>6.000000</td>\n",
       "      <td>1005.9</td>\n",
       "    </tr>\n",
       "    <tr>\n",
       "      <th>3</th>\n",
       "      <td>0.8</td>\n",
       "      <td>6.586079</td>\n",
       "      <td>88.778159</td>\n",
       "      <td>22.263927</td>\n",
       "      <td>183.268500</td>\n",
       "      <td>50.108334</td>\n",
       "      <td>1013.070833</td>\n",
       "      <td>10.400246</td>\n",
       "      <td>97.533720</td>\n",
       "      <td>29.142216</td>\n",
       "      <td>210.57922</td>\n",
       "      <td>100.0</td>\n",
       "      <td>1016.1</td>\n",
       "      <td>2.340245</td>\n",
       "      <td>79.372375</td>\n",
       "      <td>15.716793</td>\n",
       "      <td>157.79652</td>\n",
       "      <td>14.000000</td>\n",
       "      <td>1011.4</td>\n",
       "    </tr>\n",
       "    <tr>\n",
       "      <th>4</th>\n",
       "      <td>16.5</td>\n",
       "      <td>6.358579</td>\n",
       "      <td>94.172092</td>\n",
       "      <td>15.272616</td>\n",
       "      <td>158.277724</td>\n",
       "      <td>66.666667</td>\n",
       "      <td>1007.625000</td>\n",
       "      <td>8.480246</td>\n",
       "      <td>98.024340</td>\n",
       "      <td>28.100763</td>\n",
       "      <td>205.51387</td>\n",
       "      <td>100.0</td>\n",
       "      <td>1016.3</td>\n",
       "      <td>4.600245</td>\n",
       "      <td>88.295070</td>\n",
       "      <td>7.244860</td>\n",
       "      <td>135.00000</td>\n",
       "      <td>5.000000</td>\n",
       "      <td>999.5</td>\n",
       "    </tr>\n",
       "    <tr>\n",
       "      <th>5</th>\n",
       "      <td>5.5</td>\n",
       "      <td>4.995662</td>\n",
       "      <td>86.622807</td>\n",
       "      <td>16.897822</td>\n",
       "      <td>225.090521</td>\n",
       "      <td>59.383333</td>\n",
       "      <td>1010.754167</td>\n",
       "      <td>7.480245</td>\n",
       "      <td>97.288110</td>\n",
       "      <td>27.103000</td>\n",
       "      <td>253.00919</td>\n",
       "      <td>100.0</td>\n",
       "      <td>1016.2</td>\n",
       "      <td>0.440245</td>\n",
       "      <td>69.289240</td>\n",
       "      <td>7.100310</td>\n",
       "      <td>178.15239</td>\n",
       "      <td>10.800000</td>\n",
       "      <td>1000.1</td>\n",
       "    </tr>\n",
       "    <tr>\n",
       "      <th>...</th>\n",
       "      <th>...</th>\n",
       "      <th>...</th>\n",
       "      <td>...</td>\n",
       "      <td>...</td>\n",
       "      <td>...</td>\n",
       "      <td>...</td>\n",
       "      <td>...</td>\n",
       "      <td>...</td>\n",
       "      <td>...</td>\n",
       "      <td>...</td>\n",
       "      <td>...</td>\n",
       "      <td>...</td>\n",
       "      <td>...</td>\n",
       "      <td>...</td>\n",
       "      <td>...</td>\n",
       "      <td>...</td>\n",
       "      <td>...</td>\n",
       "      <td>...</td>\n",
       "      <td>...</td>\n",
       "      <td>...</td>\n",
       "      <td>...</td>\n",
       "    </tr>\n",
       "    <tr>\n",
       "      <th rowspan=\"5\" valign=\"top\">2023</th>\n",
       "      <th rowspan=\"5\" valign=\"top\">11</th>\n",
       "      <th>8</th>\n",
       "      <td>0.0</td>\n",
       "      <td>7.268995</td>\n",
       "      <td>82.063136</td>\n",
       "      <td>17.965620</td>\n",
       "      <td>202.643658</td>\n",
       "      <td>33.016667</td>\n",
       "      <td>1019.379167</td>\n",
       "      <td>12.380245</td>\n",
       "      <td>93.924965</td>\n",
       "      <td>22.148046</td>\n",
       "      <td>225.65854</td>\n",
       "      <td>79.0</td>\n",
       "      <td>1021.9</td>\n",
       "      <td>3.760245</td>\n",
       "      <td>60.761055</td>\n",
       "      <td>13.104198</td>\n",
       "      <td>172.87498</td>\n",
       "      <td>5.000000</td>\n",
       "      <td>1014.8</td>\n",
       "    </tr>\n",
       "    <tr>\n",
       "      <th>9</th>\n",
       "      <td>4.2</td>\n",
       "      <td>7.729829</td>\n",
       "      <td>82.235617</td>\n",
       "      <td>25.143419</td>\n",
       "      <td>196.132513</td>\n",
       "      <td>69.020834</td>\n",
       "      <td>1010.795833</td>\n",
       "      <td>10.380245</td>\n",
       "      <td>91.075330</td>\n",
       "      <td>31.259941</td>\n",
       "      <td>216.73283</td>\n",
       "      <td>100.0</td>\n",
       "      <td>1014.6</td>\n",
       "      <td>3.690246</td>\n",
       "      <td>74.427025</td>\n",
       "      <td>18.014393</td>\n",
       "      <td>177.70940</td>\n",
       "      <td>26.700000</td>\n",
       "      <td>1007.6</td>\n",
       "    </tr>\n",
       "    <tr>\n",
       "      <th>10</th>\n",
       "      <td>9.3</td>\n",
       "      <td>9.101078</td>\n",
       "      <td>76.940065</td>\n",
       "      <td>27.342357</td>\n",
       "      <td>228.518643</td>\n",
       "      <td>61.875000</td>\n",
       "      <td>1005.745833</td>\n",
       "      <td>10.670245</td>\n",
       "      <td>91.051674</td>\n",
       "      <td>36.932910</td>\n",
       "      <td>244.13365</td>\n",
       "      <td>100.0</td>\n",
       "      <td>1006.9</td>\n",
       "      <td>7.960245</td>\n",
       "      <td>53.971973</td>\n",
       "      <td>23.188583</td>\n",
       "      <td>206.56505</td>\n",
       "      <td>24.000000</td>\n",
       "      <td>1004.4</td>\n",
       "    </tr>\n",
       "    <tr>\n",
       "      <th>11</th>\n",
       "      <td>3.2</td>\n",
       "      <td>7.350245</td>\n",
       "      <td>82.186650</td>\n",
       "      <td>22.030794</td>\n",
       "      <td>242.243293</td>\n",
       "      <td>49.875000</td>\n",
       "      <td>1010.391667</td>\n",
       "      <td>8.660245</td>\n",
       "      <td>93.756410</td>\n",
       "      <td>38.017090</td>\n",
       "      <td>261.06042</td>\n",
       "      <td>78.0</td>\n",
       "      <td>1013.0</td>\n",
       "      <td>4.260245</td>\n",
       "      <td>73.603580</td>\n",
       "      <td>13.905509</td>\n",
       "      <td>201.25050</td>\n",
       "      <td>17.000000</td>\n",
       "      <td>1004.7</td>\n",
       "    </tr>\n",
       "    <tr>\n",
       "      <th>12</th>\n",
       "      <td>14.0</td>\n",
       "      <td>5.818162</td>\n",
       "      <td>93.582846</td>\n",
       "      <td>18.648649</td>\n",
       "      <td>181.010854</td>\n",
       "      <td>85.333333</td>\n",
       "      <td>1010.112500</td>\n",
       "      <td>11.230246</td>\n",
       "      <td>97.743355</td>\n",
       "      <td>38.821620</td>\n",
       "      <td>246.72710</td>\n",
       "      <td>100.0</td>\n",
       "      <td>1012.9</td>\n",
       "      <td>2.140245</td>\n",
       "      <td>85.583810</td>\n",
       "      <td>11.486200</td>\n",
       "      <td>130.23636</td>\n",
       "      <td>14.000000</td>\n",
       "      <td>1008.1</td>\n",
       "    </tr>\n",
       "  </tbody>\n",
       "</table>\n",
       "<p>3603 rows × 19 columns</p>\n",
       "</div>"
      ],
      "text/plain": [
       "                  PT     TMEAN     RHMEAN     WSMEAN      WDMEAN    CCTMEAN  \\\n",
       "Year Month Day                                                                \n",
       "2014 1     1     1.4  4.494412  90.203694  16.615975  166.495278  59.916667   \n",
       "           2     6.8  5.978995  92.044333  20.621631  184.099628  63.875000   \n",
       "           3     0.8  6.586079  88.778159  22.263927  183.268500  50.108334   \n",
       "           4    16.5  6.358579  94.172092  15.272616  158.277724  66.666667   \n",
       "           5     5.5  4.995662  86.622807  16.897822  225.090521  59.383333   \n",
       "...              ...       ...        ...        ...         ...        ...   \n",
       "2023 11    8     0.0  7.268995  82.063136  17.965620  202.643658  33.016667   \n",
       "           9     4.2  7.729829  82.235617  25.143419  196.132513  69.020834   \n",
       "           10    9.3  9.101078  76.940065  27.342357  228.518643  61.875000   \n",
       "           11    3.2  7.350245  82.186650  22.030794  242.243293  49.875000   \n",
       "           12   14.0  5.818162  93.582846  18.648649  181.010854  85.333333   \n",
       "\n",
       "                    MSLMEAN       TMAX      RHMAX      WSMAX      WDMAX  \\\n",
       "Year Month Day                                                            \n",
       "2014 1     1    1014.029167   8.720245  96.163430  18.455048  202.01129   \n",
       "           2    1008.670833   9.240245  97.294250  29.215502  223.78113   \n",
       "           3    1013.070833  10.400246  97.533720  29.142216  210.57922   \n",
       "           4    1007.625000   8.480246  98.024340  28.100763  205.51387   \n",
       "           5    1010.754167   7.480245  97.288110  27.103000  253.00919   \n",
       "...                     ...        ...        ...        ...        ...   \n",
       "2023 11    8    1019.379167  12.380245  93.924965  22.148046  225.65854   \n",
       "           9    1010.795833  10.380245  91.075330  31.259941  216.73283   \n",
       "           10   1005.745833  10.670245  91.051674  36.932910  244.13365   \n",
       "           11   1010.391667   8.660245  93.756410  38.017090  261.06042   \n",
       "           12   1010.112500  11.230246  97.743355  38.821620  246.72710   \n",
       "\n",
       "                CCTMAX  MSLMAX      TMIN      RHMIN      WSMIN      WDMIN  \\\n",
       "Year Month Day                                                              \n",
       "2014 1     1      99.0  1017.0  0.310245  77.926410  13.584932  144.46231   \n",
       "           2     100.0  1012.1  3.530245  83.382390  14.759999  152.35402   \n",
       "           3     100.0  1016.1  2.340245  79.372375  15.716793  157.79652   \n",
       "           4     100.0  1016.3  4.600245  88.295070   7.244860  135.00000   \n",
       "           5     100.0  1016.2  0.440245  69.289240   7.100310  178.15239   \n",
       "...                ...     ...       ...        ...        ...        ...   \n",
       "2023 11    8      79.0  1021.9  3.760245  60.761055  13.104198  172.87498   \n",
       "           9     100.0  1014.6  3.690246  74.427025  18.014393  177.70940   \n",
       "           10    100.0  1006.9  7.960245  53.971973  23.188583  206.56505   \n",
       "           11     78.0  1013.0  4.260245  73.603580  13.905509  201.25050   \n",
       "           12    100.0  1012.9  2.140245  85.583810  11.486200  130.23636   \n",
       "\n",
       "                   CCTMIN  MSLMIN  \n",
       "Year Month Day                     \n",
       "2014 1     1    30.000002  1009.0  \n",
       "           2     6.000000  1005.9  \n",
       "           3    14.000000  1011.4  \n",
       "           4     5.000000   999.5  \n",
       "           5    10.800000  1000.1  \n",
       "...                   ...     ...  \n",
       "2023 11    8     5.000000  1014.8  \n",
       "           9    26.700000  1007.6  \n",
       "           10   24.000000  1004.4  \n",
       "           11   17.000000  1004.7  \n",
       "           12   14.000000  1008.1  \n",
       "\n",
       "[3603 rows x 19 columns]"
      ]
     },
     "execution_count": 4,
     "metadata": {},
     "output_type": "execute_result"
    }
   ],
   "source": [
    "daily_data = change_resolution_to_daily(data)\n",
    "daily_data"
   ]
  },
  {
   "cell_type": "markdown",
   "metadata": {},
   "source": [
    "Now we have $18$ _features_ and $3603$ _samples_. $\\text{PT}$ is actually the target value.\\\n",
    "For saving time, we write daily data in a file."
   ]
  },
  {
   "cell_type": "code",
   "execution_count": 5,
   "metadata": {},
   "outputs": [],
   "source": [
    "write_daily_data(daily_data)"
   ]
  },
  {
   "cell_type": "code",
   "execution_count": 6,
   "metadata": {},
   "outputs": [],
   "source": [
    "X, y = read_daily_data()"
   ]
  },
  {
   "cell_type": "markdown",
   "metadata": {},
   "source": [
    "#### Splitting data\n",
    "We split our data into *train* and *test* sets with relative size $70/30$."
   ]
  },
  {
   "cell_type": "code",
   "execution_count": 7,
   "metadata": {},
   "outputs": [
    {
     "name": "stdout",
     "output_type": "stream",
     "text": [
      "(2522, 18) (1081, 18) (2522,) (1081,)\n"
     ]
    }
   ],
   "source": [
    "X_train, X_test, y_train, y_test = train_test_split(X, y, test_size=0.3, random_state=42)\n",
    "print(X_train.shape, X_test.shape, y_train.shape, y_test.shape)"
   ]
  },
  {
   "cell_type": "markdown",
   "metadata": {},
   "source": [
    "#### Visualize parameters distribution\n",
    "A [histogram](https://www.investopedia.com/terms/h/histogram.asp#:~:text=A%20histogram%20is%20a%20graph,how%20often%20that%20variable%20appears) is a graph that shows the frequency of numerical data using rectangles. The height of each rectangle represents the distribution frequency of a variable. The width of the rectangle represents the value of the variable. Here is the histogram for the first 6 features and target value."
   ]
  },
  {
   "cell_type": "code",
   "execution_count": 8,
   "metadata": {},
   "outputs": [
    {
     "data": {
      "application/vnd.jupyter.widget-view+json": {
       "model_id": "611cd8d70c204908bf40221c95fc2eb4",
       "version_major": 2,
       "version_minor": 0
      },
      "image/png": "[encoded data removed]",
      "text/html": [
       "\n",
       "            <div style=\"display: inline-block;\">\n",
       "                <div class=\"jupyter-widgets widget-label\" style=\"text-align: center;\">\n",
       "                    Figure\n",
       "                </div>\n",
       "                <img src='data:image/png;base64,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' width=1280.0/>\n",
       "            </div>\n",
       "        "
      ],
      "text/plain": [
       "Canvas(toolbar=Toolbar(toolitems=[('Home', 'Reset original view', 'home', 'home'), ('Back', 'Back to previous …"
      ]
     },
     "metadata": {},
     "output_type": "display_data"
    }
   ],
   "source": [
    "show_histogram(X_train.values, titles=X_train.columns)"
   ]
  },
  {
   "cell_type": "markdown",
   "metadata": {},
   "source": [
    "#### Normalization\n",
    "In general, many learning algorithms such as linear models benefit from standardization of the data set. Since some features like $\\text{MEANMSL}$ are numerically larger than others, we should sacle features. \n",
    "\n",
    "\n",
    "We standardize features by removing the mean and scaling to unit variance.\n",
    "$$ z = \\frac{x - \\mu}{\\sigma} $$\n",
    "We find parameters of nomalization only by having *training set* and **do not** recalculate them on the *test set*."
   ]
  },
  {
   "cell_type": "code",
   "execution_count": 9,
   "metadata": {},
   "outputs": [],
   "source": [
    "std = StandardScaler()"
   ]
  },
  {
   "cell_type": "markdown",
   "metadata": {},
   "source": [
    "## Models\n",
    "For precipitation forecating, we have two options:\n",
    "- Quantitative Precipitation Forecast (QPF) that foreacst the amount of precipitation.\n",
    "- Predict whether it will rain or not.\n",
    "### Regression\n",
    "We use $R^2$ technique for measuring accuracy. If $\\hat{y_i}$ is the predicted value for $i$-th sample:\n",
    "$$ R^2 (y, \\hat{y}) = 1 - \\frac{\\sum_{i=1}^n (y_i - \\hat{y_i})^2}{\\sum_{i=1}^n (y_i - \\bar{y_i})^2} $$\n",
    "#### Linear Model\n",
    "In this model, target value is expected to be a linear combination of the features."
   ]
  },
  {
   "cell_type": "markdown",
   "metadata": {},
   "source": [
    "We use [Ridge Regression](https://scikit-learn.org/stable/modules/generated/sklearn.linear_model.Ridge.html#sklearn.linear_model.Ridge) that has cost *least squares* with *l2 regularization*.\n",
    "SGDRegressor(loss='squared_error', penalty='l2') and Ridge solve the same optimization problem, via different means. [SGDRegressor](https://scikit-learn.org/stable/modules/generated/sklearn.linear_model.SGDRegressor.html#sklearn.linear_model.SGDRegressor) is well suited for regression problems with a large number of training samples (> 10.000). For other problems like ours, Ridge is recommended."
   ]
  },
  {
   "cell_type": "markdown",
   "metadata": {},
   "source": [
    "**Tuning hyper-parameters**: We only tune $\\text{alpha}$ (regularization term) here."
   ]
  },
  {
   "cell_type": "code",
   "execution_count": 10,
   "metadata": {},
   "outputs": [
    {
     "data": {
      "text/html": [
       "<div>\n",
       "<style scoped>\n",
       "    .dataframe tbody tr th:only-of-type {\n",
       "        vertical-align: middle;\n",
       "    }\n",
       "\n",
       "    .dataframe tbody tr th {\n",
       "        vertical-align: top;\n",
       "    }\n",
       "\n",
       "    .dataframe thead th {\n",
       "        text-align: right;\n",
       "    }\n",
       "</style>\n",
       "<table border=\"1\" class=\"dataframe\">\n",
       "  <thead>\n",
       "    <tr style=\"text-align: right;\">\n",
       "      <th></th>\n",
       "      <th>rank_test_score</th>\n",
       "      <th>mean_test_score</th>\n",
       "    </tr>\n",
       "    <tr>\n",
       "      <th>hyper params</th>\n",
       "      <th></th>\n",
       "      <th></th>\n",
       "    </tr>\n",
       "  </thead>\n",
       "  <tbody>\n",
       "    <tr>\n",
       "      <th>1</th>\n",
       "      <td>1</td>\n",
       "      <td>0.470393</td>\n",
       "    </tr>\n",
       "    <tr>\n",
       "      <th>0.1</th>\n",
       "      <td>2</td>\n",
       "      <td>0.470236</td>\n",
       "    </tr>\n",
       "    <tr>\n",
       "      <th>0.01</th>\n",
       "      <td>3</td>\n",
       "      <td>0.470203</td>\n",
       "    </tr>\n",
       "    <tr>\n",
       "      <th>0.001</th>\n",
       "      <td>4</td>\n",
       "      <td>0.470200</td>\n",
       "    </tr>\n",
       "    <tr>\n",
       "      <th>10</th>\n",
       "      <td>5</td>\n",
       "      <td>0.468775</td>\n",
       "    </tr>\n",
       "  </tbody>\n",
       "</table>\n",
       "</div>"
      ],
      "text/plain": [
       "              rank_test_score  mean_test_score\n",
       "hyper params                                  \n",
       "1                           1         0.470393\n",
       "0.1                         2         0.470236\n",
       "0.01                        3         0.470203\n",
       "0.001                       4         0.470200\n",
       "10                          5         0.468775"
      ]
     },
     "execution_count": 10,
     "metadata": {},
     "output_type": "execute_result"
    }
   ],
   "source": [
    "ridge_grid = {\n",
    "    \"alpha\": [0.001, 0.01, 0.1, 1, 10]\n",
    "}\n",
    "ridge_reg = Ridge(random_state=42)\n",
    "ridge_search = GridSearchCV(ridge_reg, ridge_grid, scoring=\"r2\")\n",
    "ridge_model = make_pipeline(std, ridge_search).fit(X_train, y_train)\n",
    "search_results(ridge_search)"
   ]
  },
  {
   "cell_type": "markdown",
   "metadata": {},
   "source": [
    "Now we found that $\\text{alpha} = 1$ is the best possible choice, we start predicting."
   ]
  },
  {
   "cell_type": "code",
   "execution_count": 11,
   "metadata": {},
   "outputs": [
    {
     "data": {
      "text/html": [
       "<div>\n",
       "<style scoped>\n",
       "    .dataframe tbody tr th:only-of-type {\n",
       "        vertical-align: middle;\n",
       "    }\n",
       "\n",
       "    .dataframe tbody tr th {\n",
       "        vertical-align: top;\n",
       "    }\n",
       "\n",
       "    .dataframe thead th {\n",
       "        text-align: right;\n",
       "    }\n",
       "</style>\n",
       "<table border=\"1\" class=\"dataframe\">\n",
       "  <thead>\n",
       "    <tr style=\"text-align: right;\">\n",
       "      <th></th>\n",
       "      <th>Train Score</th>\n",
       "      <th>Test Score</th>\n",
       "    </tr>\n",
       "  </thead>\n",
       "  <tbody>\n",
       "    <tr>\n",
       "      <th>Linear</th>\n",
       "      <td>0.481361</td>\n",
       "      <td>0.430302</td>\n",
       "    </tr>\n",
       "  </tbody>\n",
       "</table>\n",
       "</div>"
      ],
      "text/plain": [
       "        Train Score  Test Score\n",
       "Linear     0.481361    0.430302"
      ]
     },
     "execution_count": 11,
     "metadata": {},
     "output_type": "execute_result"
    }
   ],
   "source": [
    "linear_model = make_pipeline(std, ridge_search.best_estimator_).fit(X_train, y_train)\n",
    "y_train_pred = linear_model.predict(X_train)\n",
    "y_test_pred = linear_model.predict(X_test)\n",
    "linear_score = score_model(r2_score, y_train, y_train_pred, y_test, y_test_pred, \"Linear\")\n",
    "linear_score"
   ]
  },
  {
   "cell_type": "markdown",
   "metadata": {},
   "source": [
    "#### Random Forest\n",
    "A random forest is a meta estimator that fits a number of classifying decision trees on various sub-samples of the dataset and uses averaging to improve the predictive accuracy and control over-fitting. This is one of the models that is **not sensitive to the scale** of the input features.\n",
    "\n",
    "We tune only on $\\text{n\\_estimators}$."
   ]
  },
  {
   "cell_type": "code",
   "execution_count": 12,
   "metadata": {},
   "outputs": [
    {
     "data": {
      "text/html": [
       "<div>\n",
       "<style scoped>\n",
       "    .dataframe tbody tr th:only-of-type {\n",
       "        vertical-align: middle;\n",
       "    }\n",
       "\n",
       "    .dataframe tbody tr th {\n",
       "        vertical-align: top;\n",
       "    }\n",
       "\n",
       "    .dataframe thead th {\n",
       "        text-align: right;\n",
       "    }\n",
       "</style>\n",
       "<table border=\"1\" class=\"dataframe\">\n",
       "  <thead>\n",
       "    <tr style=\"text-align: right;\">\n",
       "      <th></th>\n",
       "      <th>rank_test_score</th>\n",
       "      <th>mean_test_score</th>\n",
       "    </tr>\n",
       "    <tr>\n",
       "      <th>hyper params</th>\n",
       "      <th></th>\n",
       "      <th></th>\n",
       "    </tr>\n",
       "  </thead>\n",
       "  <tbody>\n",
       "    <tr>\n",
       "      <th>500</th>\n",
       "      <td>1</td>\n",
       "      <td>0.580371</td>\n",
       "    </tr>\n",
       "    <tr>\n",
       "      <th>100</th>\n",
       "      <td>2</td>\n",
       "      <td>0.575937</td>\n",
       "    </tr>\n",
       "    <tr>\n",
       "      <th>60</th>\n",
       "      <td>3</td>\n",
       "      <td>0.570216</td>\n",
       "    </tr>\n",
       "    <tr>\n",
       "      <th>10</th>\n",
       "      <td>4</td>\n",
       "      <td>0.540324</td>\n",
       "    </tr>\n",
       "  </tbody>\n",
       "</table>\n",
       "</div>"
      ],
      "text/plain": [
       "              rank_test_score  mean_test_score\n",
       "hyper params                                  \n",
       "500                         1         0.580371\n",
       "100                         2         0.575937\n",
       "60                          3         0.570216\n",
       "10                          4         0.540324"
      ]
     },
     "execution_count": 12,
     "metadata": {},
     "output_type": "execute_result"
    }
   ],
   "source": [
    "rfr_grid = {\n",
    "    \"n_estimators\": [10, 60, 100, 500]\n",
    "}\n",
    "rfr = RandomForestRegressor(random_state=42)\n",
    "rfr_search = GridSearchCV(rfr, rfr_grid, scoring=\"r2\").fit(X_train, y_train)\n",
    "search_results(rfr_search)"
   ]
  },
  {
   "cell_type": "markdown",
   "metadata": {},
   "source": [
    "Although maybe $\\text{n\\_estimators} > 500$ would be better, it is very time consuming to choose larger values. So we use $\\text{n\\_estimators} = 500$ instead which is not really worse but very faster."
   ]
  },
  {
   "cell_type": "code",
   "execution_count": 13,
   "metadata": {},
   "outputs": [
    {
     "data": {
      "text/html": [
       "<div>\n",
       "<style scoped>\n",
       "    .dataframe tbody tr th:only-of-type {\n",
       "        vertical-align: middle;\n",
       "    }\n",
       "\n",
       "    .dataframe tbody tr th {\n",
       "        vertical-align: top;\n",
       "    }\n",
       "\n",
       "    .dataframe thead th {\n",
       "        text-align: right;\n",
       "    }\n",
       "</style>\n",
       "<table border=\"1\" class=\"dataframe\">\n",
       "  <thead>\n",
       "    <tr style=\"text-align: right;\">\n",
       "      <th></th>\n",
       "      <th>Train Score</th>\n",
       "      <th>Test Score</th>\n",
       "    </tr>\n",
       "  </thead>\n",
       "  <tbody>\n",
       "    <tr>\n",
       "      <th>RandomForest</th>\n",
       "      <td>0.943177</td>\n",
       "      <td>0.551559</td>\n",
       "    </tr>\n",
       "  </tbody>\n",
       "</table>\n",
       "</div>"
      ],
      "text/plain": [
       "              Train Score  Test Score\n",
       "RandomForest     0.943177    0.551559"
      ]
     },
     "execution_count": 13,
     "metadata": {},
     "output_type": "execute_result"
    }
   ],
   "source": [
    "rfr_model = rfr_search.best_estimator_.fit(X_train, y_train)\n",
    "y_train_pred = rfr_model.predict(X_train)\n",
    "y_test_pred = rfr_model.predict(X_test)\n",
    "rfr_score = score_model(r2_score, y_train, y_train_pred, y_test, y_test_pred, \"RandomForest\")\n",
    "rfr_score"
   ]
  },
  {
   "cell_type": "markdown",
   "metadata": {},
   "source": [
    "There is an interesting fact about this model. It is trained on Train set very well, but accuracy decreases dramaticaly when predicting Test set."
   ]
  },
  {
   "cell_type": "markdown",
   "metadata": {},
   "source": [
    "#### Gradient Boosting\n",
    "Another ensemble model.\n",
    "In each stage a regression tree is fit on the negative gradient of the given loss function.\n",
    "\n",
    "Here, we tune on $\\text{n\\_estimators}$, and also $\\text{learning\\_rate}$."
   ]
  },
  {
   "cell_type": "code",
   "execution_count": 14,
   "metadata": {},
   "outputs": [
    {
     "data": {
      "text/html": [
       "<div>\n",
       "<style scoped>\n",
       "    .dataframe tbody tr th:only-of-type {\n",
       "        vertical-align: middle;\n",
       "    }\n",
       "\n",
       "    .dataframe tbody tr th {\n",
       "        vertical-align: top;\n",
       "    }\n",
       "\n",
       "    .dataframe thead th {\n",
       "        text-align: right;\n",
       "    }\n",
       "</style>\n",
       "<table border=\"1\" class=\"dataframe\">\n",
       "  <thead>\n",
       "    <tr style=\"text-align: right;\">\n",
       "      <th></th>\n",
       "      <th>rank_test_score</th>\n",
       "      <th>mean_test_score</th>\n",
       "    </tr>\n",
       "    <tr>\n",
       "      <th>hyper params</th>\n",
       "      <th></th>\n",
       "      <th></th>\n",
       "    </tr>\n",
       "  </thead>\n",
       "  <tbody>\n",
       "    <tr>\n",
       "      <th>0.1_100</th>\n",
       "      <td>1</td>\n",
       "      <td>0.578455</td>\n",
       "    </tr>\n",
       "    <tr>\n",
       "      <th>0.1_60</th>\n",
       "      <td>2</td>\n",
       "      <td>0.574536</td>\n",
       "    </tr>\n",
       "    <tr>\n",
       "      <th>0.05_100</th>\n",
       "      <td>3</td>\n",
       "      <td>0.574322</td>\n",
       "    </tr>\n",
       "    <tr>\n",
       "      <th>0.05_500</th>\n",
       "      <td>4</td>\n",
       "      <td>0.569236</td>\n",
       "    </tr>\n",
       "    <tr>\n",
       "      <th>0.1_500</th>\n",
       "      <td>5</td>\n",
       "      <td>0.558686</td>\n",
       "    </tr>\n",
       "    <tr>\n",
       "      <th>0.05_60</th>\n",
       "      <td>6</td>\n",
       "      <td>0.546302</td>\n",
       "    </tr>\n",
       "    <tr>\n",
       "      <th>0.5_10</th>\n",
       "      <td>7</td>\n",
       "      <td>0.543708</td>\n",
       "    </tr>\n",
       "    <tr>\n",
       "      <th>0.5_60</th>\n",
       "      <td>8</td>\n",
       "      <td>0.496438</td>\n",
       "    </tr>\n",
       "    <tr>\n",
       "      <th>0.5_100</th>\n",
       "      <td>9</td>\n",
       "      <td>0.477326</td>\n",
       "    </tr>\n",
       "    <tr>\n",
       "      <th>0.5_500</th>\n",
       "      <td>10</td>\n",
       "      <td>0.458463</td>\n",
       "    </tr>\n",
       "    <tr>\n",
       "      <th>0.1_10</th>\n",
       "      <td>11</td>\n",
       "      <td>0.376932</td>\n",
       "    </tr>\n",
       "    <tr>\n",
       "      <th>0.05_10</th>\n",
       "      <td>12</td>\n",
       "      <td>0.258490</td>\n",
       "    </tr>\n",
       "  </tbody>\n",
       "</table>\n",
       "</div>"
      ],
      "text/plain": [
       "              rank_test_score  mean_test_score\n",
       "hyper params                                  \n",
       "0.1_100                     1         0.578455\n",
       "0.1_60                      2         0.574536\n",
       "0.05_100                    3         0.574322\n",
       "0.05_500                    4         0.569236\n",
       "0.1_500                     5         0.558686\n",
       "0.05_60                     6         0.546302\n",
       "0.5_10                      7         0.543708\n",
       "0.5_60                      8         0.496438\n",
       "0.5_100                     9         0.477326\n",
       "0.5_500                    10         0.458463\n",
       "0.1_10                     11         0.376932\n",
       "0.05_10                    12         0.258490"
      ]
     },
     "execution_count": 14,
     "metadata": {},
     "output_type": "execute_result"
    }
   ],
   "source": [
    "grb_grid = {\n",
    "    \"n_estimators\": [10, 60, 100, 500],\n",
    "    \"learning_rate\": [0.05, 0.1, 0.5]\n",
    "}\n",
    "grb = GradientBoostingRegressor(random_state=42)\n",
    "grb_search = GridSearchCV(grb, grb_grid, scoring=\"r2\").fit(X_train, y_train)\n",
    "search_results(grb_search)"
   ]
  },
  {
   "cell_type": "markdown",
   "metadata": {},
   "source": [
    "From the above table we can conclude that is not always more accure.\n",
    "\n",
    "For prediction we use this code."
   ]
  },
  {
   "cell_type": "code",
   "execution_count": 15,
   "metadata": {},
   "outputs": [
    {
     "data": {
      "text/html": [
       "<div>\n",
       "<style scoped>\n",
       "    .dataframe tbody tr th:only-of-type {\n",
       "        vertical-align: middle;\n",
       "    }\n",
       "\n",
       "    .dataframe tbody tr th {\n",
       "        vertical-align: top;\n",
       "    }\n",
       "\n",
       "    .dataframe thead th {\n",
       "        text-align: right;\n",
       "    }\n",
       "</style>\n",
       "<table border=\"1\" class=\"dataframe\">\n",
       "  <thead>\n",
       "    <tr style=\"text-align: right;\">\n",
       "      <th></th>\n",
       "      <th>Train Score</th>\n",
       "      <th>Test Score</th>\n",
       "    </tr>\n",
       "  </thead>\n",
       "  <tbody>\n",
       "    <tr>\n",
       "      <th>Gradient Boosting</th>\n",
       "      <td>0.793528</td>\n",
       "      <td>0.596612</td>\n",
       "    </tr>\n",
       "  </tbody>\n",
       "</table>\n",
       "</div>"
      ],
      "text/plain": [
       "                   Train Score  Test Score\n",
       "Gradient Boosting     0.793528    0.596612"
      ]
     },
     "execution_count": 15,
     "metadata": {},
     "output_type": "execute_result"
    }
   ],
   "source": [
    "grb_model = grb_search.best_estimator_.fit(X_train, y_train)\n",
    "y_train_pred = grb_model.predict(X_train)\n",
    "y_test_pred = grb_model.predict(X_test)\n",
    "grb_score = score_model(r2_score, y_train, y_train_pred, y_test, y_test_pred, \"Gradient Boosting\")\n",
    "grb_score"
   ]
  },
  {
   "cell_type": "markdown",
   "metadata": {},
   "source": [
    "Comparing to Random Forest, although Gradient Boosting score on Train set is lower, but can predict better on Test set."
   ]
  },
  {
   "cell_type": "markdown",
   "metadata": {},
   "source": [
    "#### Nueral Networks\n",
    "We use `keras` for implementing nueral networks. Here are some structures.\n",
    "\n",
    "In general, decision trees have better performance on structured data rather than nueral nerworks."
   ]
  },
  {
   "cell_type": "code",
   "execution_count": 16,
   "metadata": {},
   "outputs": [
    {
     "name": "stderr",
     "output_type": "stream",
     "text": [
      "2023-12-11 01:03:37.619841: I metal_plugin/src/device/metal_device.cc:1154] Metal device set to: Apple M1\n",
      "2023-12-11 01:03:37.619866: I metal_plugin/src/device/metal_device.cc:296] systemMemory: 8.00 GB\n",
      "2023-12-11 01:03:37.619872: I metal_plugin/src/device/metal_device.cc:313] maxCacheSize: 2.67 GB\n",
      "2023-12-11 01:03:37.619907: I tensorflow/core/common_runtime/pluggable_device/pluggable_device_factory.cc:306] Could not identify NUMA node of platform GPU ID 0, defaulting to 0. Your kernel may not have been built with NUMA support.\n",
      "2023-12-11 01:03:37.619927: I tensorflow/core/common_runtime/pluggable_device/pluggable_device_factory.cc:272] Created TensorFlow device (/job:localhost/replica:0/task:0/device:GPU:0 with 0 MB memory) -> physical PluggableDevice (device: 0, name: METAL, pci bus id: <undefined>)\n",
      "2023-12-11 01:03:38.216337: I tensorflow/core/grappler/optimizers/custom_graph_optimizer_registry.cc:117] Plugin optimizer for device_type GPU is enabled.\n"
     ]
    },
    {
     "name": "stdout",
     "output_type": "stream",
     "text": [
      "79/79 [==============================] - 1s 9ms/step - loss: 25.4074\n",
      "79/79 [==============================] - 0s 2ms/step\n",
      "34/34 [==============================] - 0s 3ms/step\n",
      "79/79 [==============================] - 1s 8ms/step - loss: 36.1305\n",
      "79/79 [==============================] - 0s 2ms/step\n",
      "34/34 [==============================] - 0s 3ms/step\n",
      "79/79 [==============================] - 1s 7ms/step - loss: 30.9582\n",
      "79/79 [==============================] - 0s 2ms/step\n",
      "34/34 [==============================] - 0s 2ms/step\n"
     ]
    },
    {
     "data": {
      "text/html": [
       "<div>\n",
       "<style scoped>\n",
       "    .dataframe tbody tr th:only-of-type {\n",
       "        vertical-align: middle;\n",
       "    }\n",
       "\n",
       "    .dataframe tbody tr th {\n",
       "        vertical-align: top;\n",
       "    }\n",
       "\n",
       "    .dataframe thead th {\n",
       "        text-align: right;\n",
       "    }\n",
       "</style>\n",
       "<table border=\"1\" class=\"dataframe\">\n",
       "  <thead>\n",
       "    <tr style=\"text-align: right;\">\n",
       "      <th></th>\n",
       "      <th>Train Score</th>\n",
       "      <th>Test Score</th>\n",
       "    </tr>\n",
       "  </thead>\n",
       "  <tbody>\n",
       "    <tr>\n",
       "      <th>nn_model1</th>\n",
       "      <td>0.515692</td>\n",
       "      <td>0.436504</td>\n",
       "    </tr>\n",
       "    <tr>\n",
       "      <th>nn_model2</th>\n",
       "      <td>0.382449</td>\n",
       "      <td>0.408192</td>\n",
       "    </tr>\n",
       "    <tr>\n",
       "      <th>nn_model3</th>\n",
       "      <td>0.526598</td>\n",
       "      <td>0.457416</td>\n",
       "    </tr>\n",
       "  </tbody>\n",
       "</table>\n",
       "</div>"
      ],
      "text/plain": [
       "           Train Score  Test Score\n",
       "nn_model1     0.515692    0.436504\n",
       "nn_model2     0.382449    0.408192\n",
       "nn_model3     0.526598    0.457416"
      ]
     },
     "execution_count": 16,
     "metadata": {},
     "output_type": "execute_result"
    }
   ],
   "source": [
    "nn_model1 = Sequential([\n",
    "    Dense(16, activation=\"relu\"),\n",
    "    Dense(8, activation=\"relu\"),\n",
    "    Dense(1, activation=\"relu\")\n",
    "], name=\"nn_model1\")\n",
    "\n",
    "nn_model2 = Sequential([\n",
    "    Dense(15, activation=\"relu\"),\n",
    "    Dense(7, activation=\"relu\"),\n",
    "    Dense(1, activation=\"relu\")\n",
    "], name=\"nn_model2\")\n",
    "\n",
    "nn_model3 = Sequential([\n",
    "    Dense(8, activation=\"relu\"),\n",
    "    Dense(1, activation=\"relu\")\n",
    "], name=\"nn_model3\")\n",
    "\n",
    "X_train_std = std.fit_transform(X_train)\n",
    "X_test_std = std.transform(X_test)\n",
    "dfs = []\n",
    "\n",
    "for nn_model in [nn_model1, nn_model2, nn_model3]:\n",
    "    nn_model.compile(optimizer=Adam(learning_rate=4e-2), loss=\"mean_squared_error\")\n",
    "    nn_model.fit(X_train_std, y_train)\n",
    "    y_train_pred = nn_model.predict(X_train_std)\n",
    "    y_test_pred = nn_model.predict(X_test_std)\n",
    "    dfs.append(score_model(r2_score, y_train, y_train_pred, y_test, y_test_pred, nn_model.name))\n",
    "\n",
    "nn_score = pd.concat(dfs)\n",
    "nn_score"
   ]
  },
  {
   "cell_type": "markdown",
   "metadata": {},
   "source": [
    "### Classification"
   ]
  },
  {
   "cell_type": "markdown",
   "metadata": {},
   "source": [
    "## Conclusion\n",
    "For Regression part, Gradient Boosting has the highest *r2_score*."
   ]
  },
  {
   "cell_type": "code",
   "execution_count": 17,
   "metadata": {},
   "outputs": [
    {
     "data": {
      "text/html": [
       "<div>\n",
       "<style scoped>\n",
       "    .dataframe tbody tr th:only-of-type {\n",
       "        vertical-align: middle;\n",
       "    }\n",
       "\n",
       "    .dataframe tbody tr th {\n",
       "        vertical-align: top;\n",
       "    }\n",
       "\n",
       "    .dataframe thead th {\n",
       "        text-align: right;\n",
       "    }\n",
       "</style>\n",
       "<table border=\"1\" class=\"dataframe\">\n",
       "  <thead>\n",
       "    <tr style=\"text-align: right;\">\n",
       "      <th></th>\n",
       "      <th>Train Score</th>\n",
       "      <th>Test Score</th>\n",
       "    </tr>\n",
       "  </thead>\n",
       "  <tbody>\n",
       "    <tr>\n",
       "      <th>Gradient Boosting</th>\n",
       "      <td>0.793528</td>\n",
       "      <td>0.596612</td>\n",
       "    </tr>\n",
       "    <tr>\n",
       "      <th>RandomForest</th>\n",
       "      <td>0.943177</td>\n",
       "      <td>0.551559</td>\n",
       "    </tr>\n",
       "    <tr>\n",
       "      <th>nn_model3</th>\n",
       "      <td>0.526598</td>\n",
       "      <td>0.457416</td>\n",
       "    </tr>\n",
       "    <tr>\n",
       "      <th>nn_model1</th>\n",
       "      <td>0.515692</td>\n",
       "      <td>0.436504</td>\n",
       "    </tr>\n",
       "    <tr>\n",
       "      <th>Linear</th>\n",
       "      <td>0.481361</td>\n",
       "      <td>0.430302</td>\n",
       "    </tr>\n",
       "    <tr>\n",
       "      <th>nn_model2</th>\n",
       "      <td>0.382449</td>\n",
       "      <td>0.408192</td>\n",
       "    </tr>\n",
       "  </tbody>\n",
       "</table>\n",
       "</div>"
      ],
      "text/plain": [
       "                   Train Score  Test Score\n",
       "Gradient Boosting     0.793528    0.596612\n",
       "RandomForest          0.943177    0.551559\n",
       "nn_model3             0.526598    0.457416\n",
       "nn_model1             0.515692    0.436504\n",
       "Linear                0.481361    0.430302\n",
       "nn_model2             0.382449    0.408192"
      ]
     },
     "execution_count": 17,
     "metadata": {},
     "output_type": "execute_result"
    }
   ],
   "source": [
    "regression_scores = pd.concat([linear_score, rfr_score, grb_score, nn_score])\n",
    "regression_scores.sort_values(by=\"Test Score\", ascending=False)"
   ]
  }
 ],
 "metadata": {
  "kernelspec": {
   "display_name": "Python 3.11.4 64-bit",
   "language": "python",
   "name": "python3"
  },
  "language_info": {
   "codemirror_mode": {
    "name": "ipython",
    "version": 3
   },
   "file_extension": ".py",
   "mimetype": "text/x-python",
   "name": "python",
   "nbconvert_exporter": "python",
   "pygments_lexer": "ipython3",
   "version": "3.11.4"
  },
  "orig_nbformat": 4,
  "vscode": {
   "interpreter": {
    "hash": "aee8b7b246df8f9039afb4144a1f6fd8d2ca17a180786b69acc140d282b71a49"
   }
  }
 },
 "nbformat": 4,
 "nbformat_minor": 2
}
