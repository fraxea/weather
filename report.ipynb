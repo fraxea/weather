{
 "cells": [
  {
   "cell_type": "markdown",
   "metadata": {},
   "source": [
    "# Precipitaion Forecasting\n",
    "In this project, we have trained different types of machine learning models on some data about weather to predict precipitation."
   ]
  },
  {
   "cell_type": "markdown",
   "metadata": {},
   "source": [
    "## Introduction\n",
    "Weather forecasting is using data about the current state and predict how the atmosphere will change. Weather warnings are used to protect lives and property, weather forecasting improves transportation safety, and precipitation forecasting is important to agriculture. There are many different ways of weather prediction. We have used machine learning models and compared the predicted results with actual values.\n",
    "#### Study area\n",
    "Basel is a city in northwest Switzerland. On average 32% of days of the year are rainy or snowy. The total precipitation is around 840 mm annually. May receives the wettest month in Basel with an average of 98 mm of rain."
   ]
  },
  {
   "cell_type": "markdown",
   "metadata": {},
   "source": [
    "## Methodology\n",
    "The following libraries are used."
   ]
  },
  {
   "cell_type": "code",
   "execution_count": 1,
   "metadata": {},
   "outputs": [
    {
     "data": {
      "image/png": "[encoded data removed]",
      "text/plain": [
       "<Figure size 640x480 with 9 Axes>"
      ]
     },
     "metadata": {},
     "output_type": "display_data"
    }
   ],
   "source": [
    "import numpy as np\n",
    "import pandas as pd\n",
    "# import matplotlib.pyplot as plt\n",
    "from sklearn.preprocessing import StandardScaler\n",
    "\n",
    "from preprocessing import get_data, drop_missing_data, change_resolution_to_daily, write_daily_data, split_data, read_daily_data\n",
    "from visualize import show_histogram"
   ]
  },
  {
   "cell_type": "markdown",
   "metadata": {},
   "source": [
    "At first, data is collected. Then, some preprocessing techniques are used to prepare data for machine learning models. Finally, different machine learning techniquies are applied and the accuracy for each is reported. "
   ]
  },
  {
   "cell_type": "markdown",
   "metadata": {},
   "source": [
    "## Dataset\n",
    "**You can find and download the dataset in [this](https://www.meteoblue.com/en/weather/archive/export) link.**\n",
    "#### About dataset\n",
    "This dataset contains some attributes about weather for Basel, from January, 2014 to November, 2023 with hourly resolution. The first nine rows are some basic information about location of city and units of measurements which we do not need it."
   ]
  },
  {
   "cell_type": "code",
   "execution_count": 22,
   "metadata": {},
   "outputs": [
    {
     "name": "stdout",
     "output_type": "stream",
     "text": [
      "Number of samples:      86664\n",
      "Number of features:     7\n"
     ]
    }
   ],
   "source": [
    "data = get_data()\n",
    "print(f\"Number of samples:      {data.shape[0]}\")\n",
    "print(f\"Number of features:     {data.shape[1]}\")"
   ]
  },
  {
   "cell_type": "markdown",
   "metadata": {},
   "source": [
    "### Cleaning dataset\n",
    "There are some rows at the end of dataset which are empty, missing data. We simply drop them. A day after the missing data is not complete. For simplicity we remove this day as well."
   ]
  },
  {
   "cell_type": "code",
   "execution_count": 23,
   "metadata": {},
   "outputs": [
    {
     "name": "stdout",
     "output_type": "stream",
     "text": [
      "Number of missing rows: 191\n",
      "Number of samples:      86472\n"
     ]
    }
   ],
   "source": [
    "missing_data = drop_missing_data(data)\n",
    "print(f\"Number of missing rows: {missing_data}\")\n",
    "print(f\"Number of samples:      {data.shape[0]}\")"
   ]
  },
  {
   "cell_type": "code",
   "execution_count": 24,
   "metadata": {},
   "outputs": [
    {
     "name": "stdout",
     "output_type": "stream",
     "text": [
      "      Year  Month  Day     MEANT    PT         RH         WS          WD  \\\n",
      "0     2014      1    1  4.494412   1.4  90.203694  16.615975  166.495278   \n",
      "1     2014      1    2  5.978995   6.8  92.044333  20.621631  184.099628   \n",
      "2     2014      1    3  6.586079   0.8  88.778159  22.263927  183.268500   \n",
      "3     2014      1    4  6.358579  16.5  94.172092  15.272616  158.277724   \n",
      "4     2014      1    5  4.995662   5.5  86.622807  16.897822  225.090521   \n",
      "...    ...    ...  ...       ...   ...        ...        ...         ...   \n",
      "3598  2023     11    8  7.268995   0.0  82.063136  17.965620  202.643657   \n",
      "3599  2023     11    9  7.729829   4.2  82.235617  25.143419  196.132513   \n",
      "3600  2023     11   10  9.101078   9.3  76.940065  27.342357  228.518643   \n",
      "3601  2023     11   11  7.350245   3.2  82.186650  22.030794  242.243293   \n",
      "3602  2023     11   12  5.818162  14.0  93.582846  18.648649  181.010854   \n",
      "\n",
      "            CCT         MSLP       MAXT      MINT  \n",
      "0     59.916667  1014.029167   8.720245  0.310245  \n",
      "1     63.875000  1008.670833   9.240245  3.530245  \n",
      "2     50.108334  1013.070833  10.400246  2.340245  \n",
      "3     66.666667  1007.625000   8.480246  4.600245  \n",
      "4     59.383333  1010.754167   7.480245  0.440245  \n",
      "...         ...          ...        ...       ...  \n",
      "3598  33.016667  1019.379167  12.380245  3.760245  \n",
      "3599  69.020834  1010.795833  10.380245  3.690246  \n",
      "3600  61.875000  1005.745833  10.670245  7.960245  \n",
      "3601  49.875000  1010.391667   8.660245  4.260245  \n",
      "3602  85.333333  1010.112500  11.230246  2.140245  \n",
      "\n",
      "[3603 rows x 12 columns]\n"
     ]
    }
   ],
   "source": [
    "import pandas as pd\n",
    "\n",
    "file_path = \"data/daily_data.csv\"\n",
    "\n",
    "weather_df = pd.read_csv(file_path)\n",
    "\n",
    "print(weather_df)"
   ]
  },
  {
   "cell_type": "code",
   "execution_count": 25,
   "metadata": {},
   "outputs": [
    {
     "data": {
      "text/html": [
       "<div>\n",
       "<style scoped>\n",
       "    .dataframe tbody tr th:only-of-type {\n",
       "        vertical-align: middle;\n",
       "    }\n",
       "\n",
       "    .dataframe tbody tr th {\n",
       "        vertical-align: top;\n",
       "    }\n",
       "\n",
       "    .dataframe thead th {\n",
       "        text-align: right;\n",
       "    }\n",
       "</style>\n",
       "<table border=\"1\" class=\"dataframe\">\n",
       "  <thead>\n",
       "    <tr style=\"text-align: right;\">\n",
       "      <th></th>\n",
       "      <th>Year</th>\n",
       "      <th>Month</th>\n",
       "      <th>Day</th>\n",
       "      <th>MEANT</th>\n",
       "      <th>PT</th>\n",
       "      <th>RH</th>\n",
       "      <th>WS</th>\n",
       "      <th>WD</th>\n",
       "      <th>CCT</th>\n",
       "      <th>MSLP</th>\n",
       "      <th>MAXT</th>\n",
       "      <th>MINT</th>\n",
       "    </tr>\n",
       "  </thead>\n",
       "  <tbody>\n",
       "    <tr>\n",
       "      <th>0</th>\n",
       "      <td>2014</td>\n",
       "      <td>1</td>\n",
       "      <td>1</td>\n",
       "      <td>4.494412</td>\n",
       "      <td>1.4</td>\n",
       "      <td>90.203694</td>\n",
       "      <td>16.615975</td>\n",
       "      <td>166.495278</td>\n",
       "      <td>59.916667</td>\n",
       "      <td>1014.029167</td>\n",
       "      <td>8.720245</td>\n",
       "      <td>0.310245</td>\n",
       "    </tr>\n",
       "    <tr>\n",
       "      <th>1</th>\n",
       "      <td>2014</td>\n",
       "      <td>1</td>\n",
       "      <td>2</td>\n",
       "      <td>5.978995</td>\n",
       "      <td>6.8</td>\n",
       "      <td>92.044333</td>\n",
       "      <td>20.621631</td>\n",
       "      <td>184.099628</td>\n",
       "      <td>63.875000</td>\n",
       "      <td>1008.670833</td>\n",
       "      <td>9.240245</td>\n",
       "      <td>3.530245</td>\n",
       "    </tr>\n",
       "    <tr>\n",
       "      <th>2</th>\n",
       "      <td>2014</td>\n",
       "      <td>1</td>\n",
       "      <td>3</td>\n",
       "      <td>6.586079</td>\n",
       "      <td>0.8</td>\n",
       "      <td>88.778159</td>\n",
       "      <td>22.263927</td>\n",
       "      <td>183.268500</td>\n",
       "      <td>50.108334</td>\n",
       "      <td>1013.070833</td>\n",
       "      <td>10.400246</td>\n",
       "      <td>2.340245</td>\n",
       "    </tr>\n",
       "    <tr>\n",
       "      <th>3</th>\n",
       "      <td>2014</td>\n",
       "      <td>1</td>\n",
       "      <td>4</td>\n",
       "      <td>6.358579</td>\n",
       "      <td>16.5</td>\n",
       "      <td>94.172092</td>\n",
       "      <td>15.272616</td>\n",
       "      <td>158.277724</td>\n",
       "      <td>66.666667</td>\n",
       "      <td>1007.625000</td>\n",
       "      <td>8.480246</td>\n",
       "      <td>4.600245</td>\n",
       "    </tr>\n",
       "    <tr>\n",
       "      <th>4</th>\n",
       "      <td>2014</td>\n",
       "      <td>1</td>\n",
       "      <td>5</td>\n",
       "      <td>4.995662</td>\n",
       "      <td>5.5</td>\n",
       "      <td>86.622807</td>\n",
       "      <td>16.897822</td>\n",
       "      <td>225.090521</td>\n",
       "      <td>59.383333</td>\n",
       "      <td>1010.754167</td>\n",
       "      <td>7.480245</td>\n",
       "      <td>0.440245</td>\n",
       "    </tr>\n",
       "  </tbody>\n",
       "</table>\n",
       "</div>"
      ],
      "text/plain": [
       "   Year  Month  Day     MEANT    PT         RH         WS          WD  \\\n",
       "0  2014      1    1  4.494412   1.4  90.203694  16.615975  166.495278   \n",
       "1  2014      1    2  5.978995   6.8  92.044333  20.621631  184.099628   \n",
       "2  2014      1    3  6.586079   0.8  88.778159  22.263927  183.268500   \n",
       "3  2014      1    4  6.358579  16.5  94.172092  15.272616  158.277724   \n",
       "4  2014      1    5  4.995662   5.5  86.622807  16.897822  225.090521   \n",
       "\n",
       "         CCT         MSLP       MAXT      MINT  \n",
       "0  59.916667  1014.029167   8.720245  0.310245  \n",
       "1  63.875000  1008.670833   9.240245  3.530245  \n",
       "2  50.108334  1013.070833  10.400246  2.340245  \n",
       "3  66.666667  1007.625000   8.480246  4.600245  \n",
       "4  59.383333  1010.754167   7.480245  0.440245  "
      ]
     },
     "execution_count": 25,
     "metadata": {},
     "output_type": "execute_result"
    }
   ],
   "source": [
    "weather_df.head()"
   ]
  },
  {
   "cell_type": "code",
   "execution_count": 26,
   "metadata": {},
   "outputs": [],
   "source": [
    "X = weather_df.drop([\"Year\", \"Month\", \"Day\", \"PT\"], axis=1) \n",
    "y = weather_df[\"PT\"] "
   ]
  },
  {
   "cell_type": "code",
   "execution_count": 27,
   "metadata": {},
   "outputs": [
    {
     "data": {
      "text/html": [
       "<div>\n",
       "<style scoped>\n",
       "    .dataframe tbody tr th:only-of-type {\n",
       "        vertical-align: middle;\n",
       "    }\n",
       "\n",
       "    .dataframe tbody tr th {\n",
       "        vertical-align: top;\n",
       "    }\n",
       "\n",
       "    .dataframe thead th {\n",
       "        text-align: right;\n",
       "    }\n",
       "</style>\n",
       "<table border=\"1\" class=\"dataframe\">\n",
       "  <thead>\n",
       "    <tr style=\"text-align: right;\">\n",
       "      <th></th>\n",
       "      <th>MEANT</th>\n",
       "      <th>RH</th>\n",
       "      <th>WS</th>\n",
       "      <th>WD</th>\n",
       "      <th>CCT</th>\n",
       "      <th>MSLP</th>\n",
       "      <th>MAXT</th>\n",
       "      <th>MINT</th>\n",
       "    </tr>\n",
       "  </thead>\n",
       "  <tbody>\n",
       "    <tr>\n",
       "      <th>0</th>\n",
       "      <td>4.494412</td>\n",
       "      <td>90.203694</td>\n",
       "      <td>16.615975</td>\n",
       "      <td>166.495278</td>\n",
       "      <td>59.916667</td>\n",
       "      <td>1014.029167</td>\n",
       "      <td>8.720245</td>\n",
       "      <td>0.310245</td>\n",
       "    </tr>\n",
       "    <tr>\n",
       "      <th>1</th>\n",
       "      <td>5.978995</td>\n",
       "      <td>92.044333</td>\n",
       "      <td>20.621631</td>\n",
       "      <td>184.099628</td>\n",
       "      <td>63.875000</td>\n",
       "      <td>1008.670833</td>\n",
       "      <td>9.240245</td>\n",
       "      <td>3.530245</td>\n",
       "    </tr>\n",
       "    <tr>\n",
       "      <th>2</th>\n",
       "      <td>6.586079</td>\n",
       "      <td>88.778159</td>\n",
       "      <td>22.263927</td>\n",
       "      <td>183.268500</td>\n",
       "      <td>50.108334</td>\n",
       "      <td>1013.070833</td>\n",
       "      <td>10.400246</td>\n",
       "      <td>2.340245</td>\n",
       "    </tr>\n",
       "    <tr>\n",
       "      <th>3</th>\n",
       "      <td>6.358579</td>\n",
       "      <td>94.172092</td>\n",
       "      <td>15.272616</td>\n",
       "      <td>158.277724</td>\n",
       "      <td>66.666667</td>\n",
       "      <td>1007.625000</td>\n",
       "      <td>8.480246</td>\n",
       "      <td>4.600245</td>\n",
       "    </tr>\n",
       "    <tr>\n",
       "      <th>4</th>\n",
       "      <td>4.995662</td>\n",
       "      <td>86.622807</td>\n",
       "      <td>16.897822</td>\n",
       "      <td>225.090521</td>\n",
       "      <td>59.383333</td>\n",
       "      <td>1010.754167</td>\n",
       "      <td>7.480245</td>\n",
       "      <td>0.440245</td>\n",
       "    </tr>\n",
       "  </tbody>\n",
       "</table>\n",
       "</div>"
      ],
      "text/plain": [
       "      MEANT         RH         WS          WD        CCT         MSLP  \\\n",
       "0  4.494412  90.203694  16.615975  166.495278  59.916667  1014.029167   \n",
       "1  5.978995  92.044333  20.621631  184.099628  63.875000  1008.670833   \n",
       "2  6.586079  88.778159  22.263927  183.268500  50.108334  1013.070833   \n",
       "3  6.358579  94.172092  15.272616  158.277724  66.666667  1007.625000   \n",
       "4  4.995662  86.622807  16.897822  225.090521  59.383333  1010.754167   \n",
       "\n",
       "        MAXT      MINT  \n",
       "0   8.720245  0.310245  \n",
       "1   9.240245  3.530245  \n",
       "2  10.400246  2.340245  \n",
       "3   8.480246  4.600245  \n",
       "4   7.480245  0.440245  "
      ]
     },
     "execution_count": 27,
     "metadata": {},
     "output_type": "execute_result"
    }
   ],
   "source": [
    "X.head()"
   ]
  },
  {
   "cell_type": "code",
   "execution_count": 28,
   "metadata": {},
   "outputs": [
    {
     "data": {
      "text/plain": [
       "0     1.4\n",
       "1     6.8\n",
       "2     0.8\n",
       "3    16.5\n",
       "4     5.5\n",
       "Name: PT, dtype: float64"
      ]
     },
     "execution_count": 28,
     "metadata": {},
     "output_type": "execute_result"
    }
   ],
   "source": [
    "y.head()"
   ]
  },
  {
   "cell_type": "markdown",
   "metadata": {},
   "source": [
    "## Features\n",
    "In our data, each row represents a sample and each column represents a feature. Here is the list of columns\n",
    "- Temperature (T)\n",
    "- Precipitation Total (PT)\n",
    "- Relative Humidity (RH)\n",
    "- Wind Speed (WS)\n",
    "- Wind Direction (WD)\n",
    "- Cloud Cover Total (CCT)\n",
    "- Mean Sea Level Pressure (MSLP)\n",
    "\n",
    "measured hourly. PT is actually the target value. This list is raw and we will do some operations to get ready for models."
   ]
  },
  {
   "cell_type": "markdown",
   "metadata": {},
   "source": [
    "### Make samples daily\n",
    "Forecasting for a whole day is more general than one hour, so we decide to merge each 24 examples to convert the resolution to daily. A good questio is how? One way is to get mean for each feature.\n",
    "- Specifically for temperature, having maximum, minimum, and mean is better.\n",
    "- Precipitation should be the sum instead of mean.\n",
    "- Now we have 9 columns(features) and 3603 rows(samples)."
   ]
  },
  {
   "cell_type": "code",
   "execution_count": 29,
   "metadata": {},
   "outputs": [
    {
     "data": {
      "text/html": [
       "<div>\n",
       "<style scoped>\n",
       "    .dataframe tbody tr th:only-of-type {\n",
       "        vertical-align: middle;\n",
       "    }\n",
       "\n",
       "    .dataframe tbody tr th {\n",
       "        vertical-align: top;\n",
       "    }\n",
       "\n",
       "    .dataframe thead th {\n",
       "        text-align: right;\n",
       "    }\n",
       "</style>\n",
       "<table border=\"1\" class=\"dataframe\">\n",
       "  <thead>\n",
       "    <tr style=\"text-align: right;\">\n",
       "      <th></th>\n",
       "      <th></th>\n",
       "      <th>Variable</th>\n",
       "      <th>MEANT</th>\n",
       "      <th>PT</th>\n",
       "      <th>RH</th>\n",
       "      <th>WS</th>\n",
       "      <th>WD</th>\n",
       "      <th>CCT</th>\n",
       "      <th>MSLP</th>\n",
       "      <th>MAXT</th>\n",
       "      <th>MINT</th>\n",
       "    </tr>\n",
       "    <tr>\n",
       "      <th>Year</th>\n",
       "      <th>Month</th>\n",
       "      <th>Day</th>\n",
       "      <th></th>\n",
       "      <th></th>\n",
       "      <th></th>\n",
       "      <th></th>\n",
       "      <th></th>\n",
       "      <th></th>\n",
       "      <th></th>\n",
       "      <th></th>\n",
       "      <th></th>\n",
       "    </tr>\n",
       "  </thead>\n",
       "  <tbody>\n",
       "    <tr>\n",
       "      <th rowspan=\"5\" valign=\"top\">2014</th>\n",
       "      <th rowspan=\"5\" valign=\"top\">1</th>\n",
       "      <th>1</th>\n",
       "      <td>4.494412</td>\n",
       "      <td>1.4</td>\n",
       "      <td>90.203694</td>\n",
       "      <td>16.615975</td>\n",
       "      <td>166.495278</td>\n",
       "      <td>59.916667</td>\n",
       "      <td>1014.029167</td>\n",
       "      <td>8.720245</td>\n",
       "      <td>0.310245</td>\n",
       "    </tr>\n",
       "    <tr>\n",
       "      <th>2</th>\n",
       "      <td>5.978995</td>\n",
       "      <td>6.8</td>\n",
       "      <td>92.044333</td>\n",
       "      <td>20.621631</td>\n",
       "      <td>184.099628</td>\n",
       "      <td>63.875000</td>\n",
       "      <td>1008.670833</td>\n",
       "      <td>9.240245</td>\n",
       "      <td>3.530245</td>\n",
       "    </tr>\n",
       "    <tr>\n",
       "      <th>3</th>\n",
       "      <td>6.586079</td>\n",
       "      <td>0.8</td>\n",
       "      <td>88.778159</td>\n",
       "      <td>22.263927</td>\n",
       "      <td>183.268500</td>\n",
       "      <td>50.108334</td>\n",
       "      <td>1013.070833</td>\n",
       "      <td>10.400246</td>\n",
       "      <td>2.340245</td>\n",
       "    </tr>\n",
       "    <tr>\n",
       "      <th>4</th>\n",
       "      <td>6.358579</td>\n",
       "      <td>16.5</td>\n",
       "      <td>94.172092</td>\n",
       "      <td>15.272616</td>\n",
       "      <td>158.277724</td>\n",
       "      <td>66.666667</td>\n",
       "      <td>1007.625000</td>\n",
       "      <td>8.480246</td>\n",
       "      <td>4.600245</td>\n",
       "    </tr>\n",
       "    <tr>\n",
       "      <th>5</th>\n",
       "      <td>4.995662</td>\n",
       "      <td>5.5</td>\n",
       "      <td>86.622807</td>\n",
       "      <td>16.897822</td>\n",
       "      <td>225.090521</td>\n",
       "      <td>59.383333</td>\n",
       "      <td>1010.754167</td>\n",
       "      <td>7.480245</td>\n",
       "      <td>0.440245</td>\n",
       "    </tr>\n",
       "    <tr>\n",
       "      <th>...</th>\n",
       "      <th>...</th>\n",
       "      <th>...</th>\n",
       "      <td>...</td>\n",
       "      <td>...</td>\n",
       "      <td>...</td>\n",
       "      <td>...</td>\n",
       "      <td>...</td>\n",
       "      <td>...</td>\n",
       "      <td>...</td>\n",
       "      <td>...</td>\n",
       "      <td>...</td>\n",
       "    </tr>\n",
       "    <tr>\n",
       "      <th rowspan=\"5\" valign=\"top\">2023</th>\n",
       "      <th rowspan=\"5\" valign=\"top\">11</th>\n",
       "      <th>8</th>\n",
       "      <td>7.268995</td>\n",
       "      <td>0.0</td>\n",
       "      <td>82.063136</td>\n",
       "      <td>17.965620</td>\n",
       "      <td>202.643658</td>\n",
       "      <td>33.016667</td>\n",
       "      <td>1019.379167</td>\n",
       "      <td>12.380245</td>\n",
       "      <td>3.760245</td>\n",
       "    </tr>\n",
       "    <tr>\n",
       "      <th>9</th>\n",
       "      <td>7.729829</td>\n",
       "      <td>4.2</td>\n",
       "      <td>82.235617</td>\n",
       "      <td>25.143419</td>\n",
       "      <td>196.132513</td>\n",
       "      <td>69.020834</td>\n",
       "      <td>1010.795833</td>\n",
       "      <td>10.380245</td>\n",
       "      <td>3.690246</td>\n",
       "    </tr>\n",
       "    <tr>\n",
       "      <th>10</th>\n",
       "      <td>9.101078</td>\n",
       "      <td>9.3</td>\n",
       "      <td>76.940065</td>\n",
       "      <td>27.342357</td>\n",
       "      <td>228.518643</td>\n",
       "      <td>61.875000</td>\n",
       "      <td>1005.745833</td>\n",
       "      <td>10.670245</td>\n",
       "      <td>7.960245</td>\n",
       "    </tr>\n",
       "    <tr>\n",
       "      <th>11</th>\n",
       "      <td>7.350245</td>\n",
       "      <td>3.2</td>\n",
       "      <td>82.186650</td>\n",
       "      <td>22.030794</td>\n",
       "      <td>242.243293</td>\n",
       "      <td>49.875000</td>\n",
       "      <td>1010.391667</td>\n",
       "      <td>8.660245</td>\n",
       "      <td>4.260245</td>\n",
       "    </tr>\n",
       "    <tr>\n",
       "      <th>12</th>\n",
       "      <td>5.818162</td>\n",
       "      <td>14.0</td>\n",
       "      <td>93.582846</td>\n",
       "      <td>18.648649</td>\n",
       "      <td>181.010854</td>\n",
       "      <td>85.333333</td>\n",
       "      <td>1010.112500</td>\n",
       "      <td>11.230246</td>\n",
       "      <td>2.140245</td>\n",
       "    </tr>\n",
       "  </tbody>\n",
       "</table>\n",
       "<p>3603 rows × 9 columns</p>\n",
       "</div>"
      ],
      "text/plain": [
       "Variable           MEANT    PT         RH         WS          WD        CCT  \\\n",
       "Year Month Day                                                                \n",
       "2014 1     1    4.494412   1.4  90.203694  16.615975  166.495278  59.916667   \n",
       "           2    5.978995   6.8  92.044333  20.621631  184.099628  63.875000   \n",
       "           3    6.586079   0.8  88.778159  22.263927  183.268500  50.108334   \n",
       "           4    6.358579  16.5  94.172092  15.272616  158.277724  66.666667   \n",
       "           5    4.995662   5.5  86.622807  16.897822  225.090521  59.383333   \n",
       "...                  ...   ...        ...        ...         ...        ...   \n",
       "2023 11    8    7.268995   0.0  82.063136  17.965620  202.643658  33.016667   \n",
       "           9    7.729829   4.2  82.235617  25.143419  196.132513  69.020834   \n",
       "           10   9.101078   9.3  76.940065  27.342357  228.518643  61.875000   \n",
       "           11   7.350245   3.2  82.186650  22.030794  242.243293  49.875000   \n",
       "           12   5.818162  14.0  93.582846  18.648649  181.010854  85.333333   \n",
       "\n",
       "Variable               MSLP       MAXT      MINT  \n",
       "Year Month Day                                    \n",
       "2014 1     1    1014.029167   8.720245  0.310245  \n",
       "           2    1008.670833   9.240245  3.530245  \n",
       "           3    1013.070833  10.400246  2.340245  \n",
       "           4    1007.625000   8.480246  4.600245  \n",
       "           5    1010.754167   7.480245  0.440245  \n",
       "...                     ...        ...       ...  \n",
       "2023 11    8    1019.379167  12.380245  3.760245  \n",
       "           9    1010.795833  10.380245  3.690246  \n",
       "           10   1005.745833  10.670245  7.960245  \n",
       "           11   1010.391667   8.660245  4.260245  \n",
       "           12   1010.112500  11.230246  2.140245  \n",
       "\n",
       "[3603 rows x 9 columns]"
      ]
     },
     "execution_count": 29,
     "metadata": {},
     "output_type": "execute_result"
    }
   ],
   "source": [
    "daily_data = change_resolution_to_daily(data)\n",
    "daily_data"
   ]
  },
  {
   "cell_type": "markdown",
   "metadata": {},
   "source": [
    "For saving time, we write daily data in a file."
   ]
  },
  {
   "cell_type": "code",
   "execution_count": 30,
   "metadata": {},
   "outputs": [],
   "source": [
    "write_daily_data(daily_data)"
   ]
  },
  {
   "cell_type": "code",
   "execution_count": 2,
   "metadata": {},
   "outputs": [],
   "source": [
    "_, _, daily_data = read_daily_data()"
   ]
  },
  {
   "cell_type": "markdown",
   "metadata": {},
   "source": [
    "### Visualize parameters distribution\n",
    "A [histogram](https://www.investopedia.com/terms/h/histogram.asp#:~:text=A%20histogram%20is%20a%20graph,how%20often%20that%20variable%20appears) is a graph that shows the frequency of numerical data using rectangles. The height of each rectangle represents the distribution frequency of a variable. The width of the rectangle represents the value of the variable. Here is the histogram for features and target value."
   ]
  },
  {
   "cell_type": "code",
   "execution_count": 3,
   "metadata": {},
   "outputs": [
    {
     "data": {
      "image/png": "[encoded data removed]",
      "text/plain": [
       "<Figure size 640x480 with 9 Axes>"
      ]
     },
     "metadata": {},
     "output_type": "display_data"
    }
   ],
   "source": [
    "show_histogram(daily_data.values)"
   ]
  },
  {
   "cell_type": "markdown",
   "metadata": {},
   "source": [
    "### Splitting data\n"
   ]
  },
  {
   "cell_type": "code",
   "execution_count": null,
   "metadata": {},
   "outputs": [
    {
     "name": "stdout",
     "output_type": "stream",
     "text": [
      "X_teset shape:  (1081, 8)\n",
      "X_train shape:  (2522, 8)\n",
      "y_teset shape:  (1081,)\n",
      "y_train shape:  (2522,)\n"
     ]
    }
   ],
   "source": [
    "X_train, X_test, y_train, y_test = split_data(daily_data)\n",
    "print(f\"X_teset shape:  {X_test.shape}\")\n",
    "print(f\"X_train shape:  {X_train.shape}\")\n",
    "print(f\"y_teset shape:  {y_test.shape}\")\n",
    "print(f\"y_train shape:  {y_train.shape}\")"
   ]
  },
  {
   "cell_type": "code",
   "execution_count": 6,
   "metadata": {},
   "outputs": [
    {
     "data": {
      "image/png": "[encoded data removed]",
      "text/plain": [
       "<Figure size 640x480 with 9 Axes>"
      ]
     },
     "metadata": {},
     "output_type": "display_data"
    }
   ],
   "source": [
    "stnd_s = StandardScaler()\n",
    "daily_data_scaled = stnd_s.fit_transform(daily_data)\n",
    "show_histogram(daily_data_scaled)"
   ]
  },
  {
   "cell_type": "markdown",
   "metadata": {},
   "source": [
    "## Models\n",
    "Let's have a look at each one in deep"
   ]
  },
  {
   "cell_type": "code",
   "execution_count": null,
   "metadata": {},
   "outputs": [],
   "source": [
    "import torch\n",
    "import torch.nn as nn\n",
    "\n",
    "\n",
    "class LogReg(nn.Module):\n",
    "    def __init__(self):\n",
    "        super().__init__()\n",
    "        self.linear1 = nn.Linear(20000, 1)\n",
    "        # self.linear2 = nn.Linear(10000,5000)\n",
    "        # self.linear3 = nn.Linear(5000, 2500)\n",
    "        # self.linear4 = nn.Linear(2500, 1250)\n",
    "        # self.linear5 = nn.Linear(1250, 625)\n",
    "        # self.linear6 = nn.Linear(625, 125)\n",
    "        # self.linear7 = nn.Linear(125, 1)\n",
    "        \n",
    "    def forward(self, xb):\n",
    "        xb.to(device)\n",
    "        out = self.linear1(xb.to(device)).to(device)\n",
    "        # out = self.linear2(out.to(device)).to(device)\n",
    "        # out = self.linear3(out.to(device)).to(device)\n",
    "        # out = self.linear4(out.to(device)).to(device)\n",
    "        # out = self.linear5(out.to(device)).to(device)\n",
    "        # out = self.linear6(out.to(device)).to(device)\n",
    "        # out = self.linear7(out.to(device)).to(device)\n",
    "        return out"
   ]
  },
  {
   "cell_type": "markdown",
   "metadata": {},
   "source": [
    "### Linear Model\n",
    "This is like ...\n",
    "If we apply it, results:\n",
    "###### SOME FIGUERS AND PLOTS TO SHOW THE RESULTS\n",
    "Calculate performance, error, advantages and disadvantages"
   ]
  },
  {
   "cell_type": "markdown",
   "metadata": {},
   "source": [
    "### Other Models\n",
    "This is like ...\n",
    "If we apply it, results:\n",
    "###### SOME FIGUERS AND PLOTS TO SHOW THE RESULTS\n",
    "Calculate performance, error, advantages and disadvantages"
   ]
  },
  {
   "cell_type": "markdown",
   "metadata": {},
   "source": [
    "## Conclusion\n",
    "- Forecasting is good.\n",
    "- Undestand that these features have a stronger affect in result.\n",
    "- This Model is better in performance.\n",
    "- Add references if necessary."
   ]
  }
 ],
 "metadata": {
  "kernelspec": {
   "display_name": "Python 3.11.4 64-bit",
   "language": "python",
   "name": "python3"
  },
  "language_info": {
   "codemirror_mode": {
    "name": "ipython",
    "version": 3
   },
   "file_extension": ".py",
   "mimetype": "text/x-python",
   "name": "python",
   "nbconvert_exporter": "python",
   "pygments_lexer": "ipython3",
   "version": "3.11.4"
  },
  "orig_nbformat": 4,
  "vscode": {
   "interpreter": {
    "hash": "aee8b7b246df8f9039afb4144a1f6fd8d2ca17a180786b69acc140d282b71a49"
   }
  }
 },
 "nbformat": 4,
 "nbformat_minor": 2
}
